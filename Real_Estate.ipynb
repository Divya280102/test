{
  "nbformat": 4,
  "nbformat_minor": 0,
  "metadata": {
    "colab": {
      "name": "Real_Estate.ipynb",
      "provenance": [],
      "collapsed_sections": [],
      "include_colab_link": true
    },
    "kernelspec": {
      "name": "python3",
      "display_name": "Python 3"
    },
    "language_info": {
      "name": "python"
    }
  },
  "cells": [
    {
      "cell_type": "markdown",
      "metadata": {
        "id": "view-in-github",
        "colab_type": "text"
      },
      "source": [
        "<a href=\"https://colab.research.google.com/github/nastynoice/test/blob/main/Real_Estate.ipynb\" target=\"_parent\"><img src=\"https://colab.research.google.com/assets/colab-badge.svg\" alt=\"Open In Colab\"/></a>"
      ]
    },
    {
      "cell_type": "markdown",
      "metadata": {
        "id": "k02SIhtW0tok"
      },
      "source": [
        "#correlation\n"
      ]
    },
    {
      "cell_type": "code",
      "metadata": {
        "colab": {
          "base_uri": "https://localhost:8080/",
          "height": 441
        },
        "id": "GYrcO3JMkTr6",
        "outputId": "05b0b737-af4e-4196-8fab-e0a38f7743aa"
      },
      "source": [
        "import numpy as np\n",
        "import pandas as pd\n",
        "import matplotlib.pyplot as plt\n",
        "df = pd.read_csv(\"/content/Real estate.csv\")\n",
        "df = df.drop(\"No\",1)\n",
        "df"
      ],
      "execution_count": null,
      "outputs": [
        {
          "output_type": "execute_result",
          "data": {
            "text/html": [
              "<div>\n",
              "<style scoped>\n",
              "    .dataframe tbody tr th:only-of-type {\n",
              "        vertical-align: middle;\n",
              "    }\n",
              "\n",
              "    .dataframe tbody tr th {\n",
              "        vertical-align: top;\n",
              "    }\n",
              "\n",
              "    .dataframe thead th {\n",
              "        text-align: right;\n",
              "    }\n",
              "</style>\n",
              "<table border=\"1\" class=\"dataframe\">\n",
              "  <thead>\n",
              "    <tr style=\"text-align: right;\">\n",
              "      <th></th>\n",
              "      <th>X1 transaction date</th>\n",
              "      <th>X2 house age</th>\n",
              "      <th>X3 distance to the nearest MRT station</th>\n",
              "      <th>X4 number of convenience stores</th>\n",
              "      <th>X5 latitude</th>\n",
              "      <th>X6 longitude</th>\n",
              "      <th>Y house price of unit area</th>\n",
              "    </tr>\n",
              "  </thead>\n",
              "  <tbody>\n",
              "    <tr>\n",
              "      <th>0</th>\n",
              "      <td>2012.917</td>\n",
              "      <td>32.0</td>\n",
              "      <td>84.87882</td>\n",
              "      <td>10</td>\n",
              "      <td>24.98298</td>\n",
              "      <td>121.54024</td>\n",
              "      <td>37.9</td>\n",
              "    </tr>\n",
              "    <tr>\n",
              "      <th>1</th>\n",
              "      <td>2012.917</td>\n",
              "      <td>19.5</td>\n",
              "      <td>306.59470</td>\n",
              "      <td>9</td>\n",
              "      <td>24.98034</td>\n",
              "      <td>121.53951</td>\n",
              "      <td>42.2</td>\n",
              "    </tr>\n",
              "    <tr>\n",
              "      <th>2</th>\n",
              "      <td>2013.583</td>\n",
              "      <td>13.3</td>\n",
              "      <td>561.98450</td>\n",
              "      <td>5</td>\n",
              "      <td>24.98746</td>\n",
              "      <td>121.54391</td>\n",
              "      <td>47.3</td>\n",
              "    </tr>\n",
              "    <tr>\n",
              "      <th>3</th>\n",
              "      <td>2013.500</td>\n",
              "      <td>13.3</td>\n",
              "      <td>561.98450</td>\n",
              "      <td>5</td>\n",
              "      <td>24.98746</td>\n",
              "      <td>121.54391</td>\n",
              "      <td>54.8</td>\n",
              "    </tr>\n",
              "    <tr>\n",
              "      <th>4</th>\n",
              "      <td>2012.833</td>\n",
              "      <td>5.0</td>\n",
              "      <td>390.56840</td>\n",
              "      <td>5</td>\n",
              "      <td>24.97937</td>\n",
              "      <td>121.54245</td>\n",
              "      <td>43.1</td>\n",
              "    </tr>\n",
              "    <tr>\n",
              "      <th>...</th>\n",
              "      <td>...</td>\n",
              "      <td>...</td>\n",
              "      <td>...</td>\n",
              "      <td>...</td>\n",
              "      <td>...</td>\n",
              "      <td>...</td>\n",
              "      <td>...</td>\n",
              "    </tr>\n",
              "    <tr>\n",
              "      <th>409</th>\n",
              "      <td>2013.000</td>\n",
              "      <td>13.7</td>\n",
              "      <td>4082.01500</td>\n",
              "      <td>0</td>\n",
              "      <td>24.94155</td>\n",
              "      <td>121.50381</td>\n",
              "      <td>15.4</td>\n",
              "    </tr>\n",
              "    <tr>\n",
              "      <th>410</th>\n",
              "      <td>2012.667</td>\n",
              "      <td>5.6</td>\n",
              "      <td>90.45606</td>\n",
              "      <td>9</td>\n",
              "      <td>24.97433</td>\n",
              "      <td>121.54310</td>\n",
              "      <td>50.0</td>\n",
              "    </tr>\n",
              "    <tr>\n",
              "      <th>411</th>\n",
              "      <td>2013.250</td>\n",
              "      <td>18.8</td>\n",
              "      <td>390.96960</td>\n",
              "      <td>7</td>\n",
              "      <td>24.97923</td>\n",
              "      <td>121.53986</td>\n",
              "      <td>40.6</td>\n",
              "    </tr>\n",
              "    <tr>\n",
              "      <th>412</th>\n",
              "      <td>2013.000</td>\n",
              "      <td>8.1</td>\n",
              "      <td>104.81010</td>\n",
              "      <td>5</td>\n",
              "      <td>24.96674</td>\n",
              "      <td>121.54067</td>\n",
              "      <td>52.5</td>\n",
              "    </tr>\n",
              "    <tr>\n",
              "      <th>413</th>\n",
              "      <td>2013.500</td>\n",
              "      <td>6.5</td>\n",
              "      <td>90.45606</td>\n",
              "      <td>9</td>\n",
              "      <td>24.97433</td>\n",
              "      <td>121.54310</td>\n",
              "      <td>63.9</td>\n",
              "    </tr>\n",
              "  </tbody>\n",
              "</table>\n",
              "<p>414 rows × 7 columns</p>\n",
              "</div>"
            ],
            "text/plain": [
              "     X1 transaction date  ...  Y house price of unit area\n",
              "0               2012.917  ...                        37.9\n",
              "1               2012.917  ...                        42.2\n",
              "2               2013.583  ...                        47.3\n",
              "3               2013.500  ...                        54.8\n",
              "4               2012.833  ...                        43.1\n",
              "..                   ...  ...                         ...\n",
              "409             2013.000  ...                        15.4\n",
              "410             2012.667  ...                        50.0\n",
              "411             2013.250  ...                        40.6\n",
              "412             2013.000  ...                        52.5\n",
              "413             2013.500  ...                        63.9\n",
              "\n",
              "[414 rows x 7 columns]"
            ]
          },
          "metadata": {},
          "execution_count": 1
        }
      ]
    },
    {
      "cell_type": "code",
      "metadata": {
        "colab": {
          "base_uri": "https://localhost:8080/",
          "height": 321
        },
        "id": "lZiaC364lAqp",
        "outputId": "6da2488d-2bb0-4d37-9882-b616af14c7dc"
      },
      "source": [
        "# Q1) From the attached data set, visualise the data set and find the correlation between the features\n",
        "corr = df.corr()\n",
        "corr"
      ],
      "execution_count": null,
      "outputs": [
        {
          "output_type": "execute_result",
          "data": {
            "text/html": [
              "<div>\n",
              "<style scoped>\n",
              "    .dataframe tbody tr th:only-of-type {\n",
              "        vertical-align: middle;\n",
              "    }\n",
              "\n",
              "    .dataframe tbody tr th {\n",
              "        vertical-align: top;\n",
              "    }\n",
              "\n",
              "    .dataframe thead th {\n",
              "        text-align: right;\n",
              "    }\n",
              "</style>\n",
              "<table border=\"1\" class=\"dataframe\">\n",
              "  <thead>\n",
              "    <tr style=\"text-align: right;\">\n",
              "      <th></th>\n",
              "      <th>X1 transaction date</th>\n",
              "      <th>X2 house age</th>\n",
              "      <th>X3 distance to the nearest MRT station</th>\n",
              "      <th>X4 number of convenience stores</th>\n",
              "      <th>X5 latitude</th>\n",
              "      <th>X6 longitude</th>\n",
              "      <th>Y house price of unit area</th>\n",
              "    </tr>\n",
              "  </thead>\n",
              "  <tbody>\n",
              "    <tr>\n",
              "      <th>X1 transaction date</th>\n",
              "      <td>1.000000</td>\n",
              "      <td>0.017549</td>\n",
              "      <td>0.060880</td>\n",
              "      <td>0.009635</td>\n",
              "      <td>0.035058</td>\n",
              "      <td>-0.041082</td>\n",
              "      <td>0.087491</td>\n",
              "    </tr>\n",
              "    <tr>\n",
              "      <th>X2 house age</th>\n",
              "      <td>0.017549</td>\n",
              "      <td>1.000000</td>\n",
              "      <td>0.025622</td>\n",
              "      <td>0.049593</td>\n",
              "      <td>0.054420</td>\n",
              "      <td>-0.048520</td>\n",
              "      <td>-0.210567</td>\n",
              "    </tr>\n",
              "    <tr>\n",
              "      <th>X3 distance to the nearest MRT station</th>\n",
              "      <td>0.060880</td>\n",
              "      <td>0.025622</td>\n",
              "      <td>1.000000</td>\n",
              "      <td>-0.602519</td>\n",
              "      <td>-0.591067</td>\n",
              "      <td>-0.806317</td>\n",
              "      <td>-0.673613</td>\n",
              "    </tr>\n",
              "    <tr>\n",
              "      <th>X4 number of convenience stores</th>\n",
              "      <td>0.009635</td>\n",
              "      <td>0.049593</td>\n",
              "      <td>-0.602519</td>\n",
              "      <td>1.000000</td>\n",
              "      <td>0.444143</td>\n",
              "      <td>0.449099</td>\n",
              "      <td>0.571005</td>\n",
              "    </tr>\n",
              "    <tr>\n",
              "      <th>X5 latitude</th>\n",
              "      <td>0.035058</td>\n",
              "      <td>0.054420</td>\n",
              "      <td>-0.591067</td>\n",
              "      <td>0.444143</td>\n",
              "      <td>1.000000</td>\n",
              "      <td>0.412924</td>\n",
              "      <td>0.546307</td>\n",
              "    </tr>\n",
              "    <tr>\n",
              "      <th>X6 longitude</th>\n",
              "      <td>-0.041082</td>\n",
              "      <td>-0.048520</td>\n",
              "      <td>-0.806317</td>\n",
              "      <td>0.449099</td>\n",
              "      <td>0.412924</td>\n",
              "      <td>1.000000</td>\n",
              "      <td>0.523287</td>\n",
              "    </tr>\n",
              "    <tr>\n",
              "      <th>Y house price of unit area</th>\n",
              "      <td>0.087491</td>\n",
              "      <td>-0.210567</td>\n",
              "      <td>-0.673613</td>\n",
              "      <td>0.571005</td>\n",
              "      <td>0.546307</td>\n",
              "      <td>0.523287</td>\n",
              "      <td>1.000000</td>\n",
              "    </tr>\n",
              "  </tbody>\n",
              "</table>\n",
              "</div>"
            ],
            "text/plain": [
              "                                        X1 transaction date  ...  Y house price of unit area\n",
              "X1 transaction date                                1.000000  ...                    0.087491\n",
              "X2 house age                                       0.017549  ...                   -0.210567\n",
              "X3 distance to the nearest MRT station             0.060880  ...                   -0.673613\n",
              "X4 number of convenience stores                    0.009635  ...                    0.571005\n",
              "X5 latitude                                        0.035058  ...                    0.546307\n",
              "X6 longitude                                      -0.041082  ...                    0.523287\n",
              "Y house price of unit area                         0.087491  ...                    1.000000\n",
              "\n",
              "[7 rows x 7 columns]"
            ]
          },
          "metadata": {},
          "execution_count": 2
        }
      ]
    },
    {
      "cell_type": "code",
      "metadata": {
        "colab": {
          "base_uri": "https://localhost:8080/"
        },
        "id": "nyDoMRYzmLIi",
        "outputId": "84108077-62f0-47e4-ae06-68aea5ca5778"
      },
      "source": [
        "matrix = df.corr()\n",
        "print(matrix)\n",
        "#correlation matrix, parameters are independent and not correlated or have very less correlation"
      ],
      "execution_count": null,
      "outputs": [
        {
          "output_type": "stream",
          "name": "stdout",
          "text": [
            "                                        X1 transaction date  ...  Y house price of unit area\n",
            "X1 transaction date                                1.000000  ...                    0.087491\n",
            "X2 house age                                       0.017549  ...                   -0.210567\n",
            "X3 distance to the nearest MRT station             0.060880  ...                   -0.673613\n",
            "X4 number of convenience stores                    0.009635  ...                    0.571005\n",
            "X5 latitude                                        0.035058  ...                    0.546307\n",
            "X6 longitude                                      -0.041082  ...                    0.523287\n",
            "Y house price of unit area                         0.087491  ...                    1.000000\n",
            "\n",
            "[7 rows x 7 columns]\n"
          ]
        }
      ]
    },
    {
      "cell_type": "code",
      "metadata": {
        "colab": {
          "base_uri": "https://localhost:8080/",
          "height": 275
        },
        "id": "7O8yBNAnnSB-",
        "outputId": "03d2bba2-5dd9-4f32-d1ea-7c86c39b84dc"
      },
      "source": [
        "plt.matshow(df.corr())\n",
        "plt.show()\n",
        "#The data has -ve correlation"
      ],
      "execution_count": null,
      "outputs": [
        {
          "output_type": "display_data",
          "data": {
            "image/png": "[encoded data removed]",
            "text/plain": [
              "<Figure size 288x288 with 1 Axes>"
            ]
          },
          "metadata": {
            "needs_background": "light"
          }
        }
      ]
    },
    {
      "cell_type": "markdown",
      "metadata": {
        "id": "x8N-jBS09GQ4"
      },
      "source": [
        "#Multiple Linear Regression"
      ]
    },
    {
      "cell_type": "code",
      "metadata": {
        "colab": {
          "base_uri": "https://localhost:8080/",
          "height": 511
        },
        "id": "9RfXe3HF0qZl",
        "outputId": "e06a3ff5-161d-447b-8ab0-cf4ef324d831"
      },
      "source": [
        "#Q2) Apply the multiple linear regression and generate the regression model. \n",
        "#    Find out its parameter and check whether the estimated parameters are correct or not\n",
        "print(df.columns)\n",
        "df.columns = [\"X1\", \"X2\", \"X3\", \"X4\", \"X5\", \"X6\", \"Y\"]\n",
        "df\n"
      ],
      "execution_count": null,
      "outputs": [
        {
          "output_type": "stream",
          "name": "stdout",
          "text": [
            "Index(['X1 transaction date', 'X2 house age',\n",
            "       'X3 distance to the nearest MRT station',\n",
            "       'X4 number of convenience stores', 'X5 latitude', 'X6 longitude',\n",
            "       'Y house price of unit area'],\n",
            "      dtype='object')\n"
          ]
        },
        {
          "output_type": "execute_result",
          "data": {
            "text/html": [
              "<div>\n",
              "<style scoped>\n",
              "    .dataframe tbody tr th:only-of-type {\n",
              "        vertical-align: middle;\n",
              "    }\n",
              "\n",
              "    .dataframe tbody tr th {\n",
              "        vertical-align: top;\n",
              "    }\n",
              "\n",
              "    .dataframe thead th {\n",
              "        text-align: right;\n",
              "    }\n",
              "</style>\n",
              "<table border=\"1\" class=\"dataframe\">\n",
              "  <thead>\n",
              "    <tr style=\"text-align: right;\">\n",
              "      <th></th>\n",
              "      <th>X1</th>\n",
              "      <th>X2</th>\n",
              "      <th>X3</th>\n",
              "      <th>X4</th>\n",
              "      <th>X5</th>\n",
              "      <th>X6</th>\n",
              "      <th>Y</th>\n",
              "    </tr>\n",
              "  </thead>\n",
              "  <tbody>\n",
              "    <tr>\n",
              "      <th>0</th>\n",
              "      <td>2012.917</td>\n",
              "      <td>32.0</td>\n",
              "      <td>84.87882</td>\n",
              "      <td>10</td>\n",
              "      <td>24.98298</td>\n",
              "      <td>121.54024</td>\n",
              "      <td>37.9</td>\n",
              "    </tr>\n",
              "    <tr>\n",
              "      <th>1</th>\n",
              "      <td>2012.917</td>\n",
              "      <td>19.5</td>\n",
              "      <td>306.59470</td>\n",
              "      <td>9</td>\n",
              "      <td>24.98034</td>\n",
              "      <td>121.53951</td>\n",
              "      <td>42.2</td>\n",
              "    </tr>\n",
              "    <tr>\n",
              "      <th>2</th>\n",
              "      <td>2013.583</td>\n",
              "      <td>13.3</td>\n",
              "      <td>561.98450</td>\n",
              "      <td>5</td>\n",
              "      <td>24.98746</td>\n",
              "      <td>121.54391</td>\n",
              "      <td>47.3</td>\n",
              "    </tr>\n",
              "    <tr>\n",
              "      <th>3</th>\n",
              "      <td>2013.500</td>\n",
              "      <td>13.3</td>\n",
              "      <td>561.98450</td>\n",
              "      <td>5</td>\n",
              "      <td>24.98746</td>\n",
              "      <td>121.54391</td>\n",
              "      <td>54.8</td>\n",
              "    </tr>\n",
              "    <tr>\n",
              "      <th>4</th>\n",
              "      <td>2012.833</td>\n",
              "      <td>5.0</td>\n",
              "      <td>390.56840</td>\n",
              "      <td>5</td>\n",
              "      <td>24.97937</td>\n",
              "      <td>121.54245</td>\n",
              "      <td>43.1</td>\n",
              "    </tr>\n",
              "    <tr>\n",
              "      <th>...</th>\n",
              "      <td>...</td>\n",
              "      <td>...</td>\n",
              "      <td>...</td>\n",
              "      <td>...</td>\n",
              "      <td>...</td>\n",
              "      <td>...</td>\n",
              "      <td>...</td>\n",
              "    </tr>\n",
              "    <tr>\n",
              "      <th>409</th>\n",
              "      <td>2013.000</td>\n",
              "      <td>13.7</td>\n",
              "      <td>4082.01500</td>\n",
              "      <td>0</td>\n",
              "      <td>24.94155</td>\n",
              "      <td>121.50381</td>\n",
              "      <td>15.4</td>\n",
              "    </tr>\n",
              "    <tr>\n",
              "      <th>410</th>\n",
              "      <td>2012.667</td>\n",
              "      <td>5.6</td>\n",
              "      <td>90.45606</td>\n",
              "      <td>9</td>\n",
              "      <td>24.97433</td>\n",
              "      <td>121.54310</td>\n",
              "      <td>50.0</td>\n",
              "    </tr>\n",
              "    <tr>\n",
              "      <th>411</th>\n",
              "      <td>2013.250</td>\n",
              "      <td>18.8</td>\n",
              "      <td>390.96960</td>\n",
              "      <td>7</td>\n",
              "      <td>24.97923</td>\n",
              "      <td>121.53986</td>\n",
              "      <td>40.6</td>\n",
              "    </tr>\n",
              "    <tr>\n",
              "      <th>412</th>\n",
              "      <td>2013.000</td>\n",
              "      <td>8.1</td>\n",
              "      <td>104.81010</td>\n",
              "      <td>5</td>\n",
              "      <td>24.96674</td>\n",
              "      <td>121.54067</td>\n",
              "      <td>52.5</td>\n",
              "    </tr>\n",
              "    <tr>\n",
              "      <th>413</th>\n",
              "      <td>2013.500</td>\n",
              "      <td>6.5</td>\n",
              "      <td>90.45606</td>\n",
              "      <td>9</td>\n",
              "      <td>24.97433</td>\n",
              "      <td>121.54310</td>\n",
              "      <td>63.9</td>\n",
              "    </tr>\n",
              "  </tbody>\n",
              "</table>\n",
              "<p>414 rows × 7 columns</p>\n",
              "</div>"
            ],
            "text/plain": [
              "           X1    X2          X3  X4        X5         X6     Y\n",
              "0    2012.917  32.0    84.87882  10  24.98298  121.54024  37.9\n",
              "1    2012.917  19.5   306.59470   9  24.98034  121.53951  42.2\n",
              "2    2013.583  13.3   561.98450   5  24.98746  121.54391  47.3\n",
              "3    2013.500  13.3   561.98450   5  24.98746  121.54391  54.8\n",
              "4    2012.833   5.0   390.56840   5  24.97937  121.54245  43.1\n",
              "..        ...   ...         ...  ..       ...        ...   ...\n",
              "409  2013.000  13.7  4082.01500   0  24.94155  121.50381  15.4\n",
              "410  2012.667   5.6    90.45606   9  24.97433  121.54310  50.0\n",
              "411  2013.250  18.8   390.96960   7  24.97923  121.53986  40.6\n",
              "412  2013.000   8.1   104.81010   5  24.96674  121.54067  52.5\n",
              "413  2013.500   6.5    90.45606   9  24.97433  121.54310  63.9\n",
              "\n",
              "[414 rows x 7 columns]"
            ]
          },
          "metadata": {},
          "execution_count": 5
        }
      ]
    },
    {
      "cell_type": "code",
      "metadata": {
        "colab": {
          "base_uri": "https://localhost:8080/"
        },
        "id": "5Fxkj4c5W5Jw",
        "outputId": "0b31d9fd-13ca-42e2-8cec-f0f5834cad94"
      },
      "source": [
        "from sklearn import linear_model\n",
        "reg = linear_model.LinearRegression()\n",
        "reg.fit(df.drop('Y',axis='columns'),df.Y)"
      ],
      "execution_count": null,
      "outputs": [
        {
          "output_type": "execute_result",
          "data": {
            "text/plain": [
              "LinearRegression()"
            ]
          },
          "metadata": {},
          "execution_count": 6
        }
      ]
    },
    {
      "cell_type": "code",
      "metadata": {
        "colab": {
          "base_uri": "https://localhost:8080/"
        },
        "id": "1Ay7Z6vPXXUJ",
        "outputId": "93638785-9e65-4cb6-f473-2ef210ab74fe"
      },
      "source": [
        "reg.coef_"
      ],
      "execution_count": null,
      "outputs": [
        {
          "output_type": "execute_result",
          "data": {
            "text/plain": [
              "array([ 5.14622746e+00, -2.69695448e-01, -4.48746107e-03,  1.13327690e+00,\n",
              "        2.25472976e+02, -1.24236012e+01])"
            ]
          },
          "metadata": {},
          "execution_count": 7
        }
      ]
    },
    {
      "cell_type": "code",
      "metadata": {
        "colab": {
          "base_uri": "https://localhost:8080/"
        },
        "id": "QtzJ9VWDXbze",
        "outputId": "f81d0fc7-ec9e-4c77-b2aa-357223ba0050"
      },
      "source": [
        "reg.intercept_"
      ],
      "execution_count": null,
      "outputs": [
        {
          "output_type": "execute_result",
          "data": {
            "text/plain": [
              "-14437.100802278139"
            ]
          },
          "metadata": {},
          "execution_count": 8
        }
      ]
    },
    {
      "cell_type": "code",
      "metadata": {
        "id": "8uQmzySeXg2W"
      },
      "source": [
        "#y = m1*X1 + m2*X2 + m3*X3 + m4*X4 + m5*X5 + intercept  mi= coefficients\n",
        "\n",
        "#Y_hat = 5.14622746e+00*X1 + -2.69695448e-01*X2 + -4.48746107e-03*X3 + 1.13327690e+00*X4 +\n",
        "       # 2.25472976e+02*X5 + -1.24236012e+01*X6 + -14437.100802278139"
      ],
      "execution_count": null,
      "outputs": []
    },
    {
      "cell_type": "code",
      "metadata": {
        "id": "MG1QeAl81UhA"
      },
      "source": [
        "x = df.drop(\"Y\",axis=1)\n",
        "y = df[\"Y\"]\n"
      ],
      "execution_count": null,
      "outputs": []
    },
    {
      "cell_type": "code",
      "metadata": {
        "id": "F-obi-5A9pmw"
      },
      "source": [
        "# importing train_test_split from sklearn\n",
        "from sklearn.model_selection import train_test_split\n",
        "# splitting the data\n",
        "x_train, x_test, y_train, y_test = train_test_split(x, y, test_size = 0.2, random_state = 42)"
      ],
      "execution_count": null,
      "outputs": []
    },
    {
      "cell_type": "code",
      "metadata": {
        "colab": {
          "base_uri": "https://localhost:8080/"
        },
        "id": "VevBqaog9tv4",
        "outputId": "71902a70-4bfe-4496-df28-11500d07ddd4"
      },
      "source": [
        "# importing module\n",
        "from sklearn.linear_model import LinearRegression\n",
        "# creating an object of LinearRegression class\n",
        "LR = LinearRegression()\n",
        "# fitting the training data\n",
        "LR.fit(x_train,y_train)"
      ],
      "execution_count": null,
      "outputs": [
        {
          "output_type": "execute_result",
          "data": {
            "text/plain": [
              "LinearRegression()"
            ]
          },
          "metadata": {},
          "execution_count": 12
        }
      ]
    },
    {
      "cell_type": "code",
      "metadata": {
        "colab": {
          "base_uri": "https://localhost:8080/"
        },
        "id": "gZlBN9Ic9wV2",
        "outputId": "e55488bd-65d9-44b3-fe35-eb1dad120dd9"
      },
      "source": [
        "y_prediction =  LR.predict(x_test)\n",
        "y_prediction"
      ],
      "execution_count": null,
      "outputs": [
        {
          "output_type": "execute_result",
          "data": {
            "text/plain": [
              "array([47.88625422, 41.16404556, 44.27301439, 40.19761542, 27.51326511,\n",
              "       45.10953115, 44.63293274, 46.36346234, 23.62063133, 54.33444894,\n",
              "       34.07416461, 36.54533193, 37.55154254, 23.2794052 , 35.26614165,\n",
              "       34.38327747, 43.35633504, 45.40740539, 30.07083159, 44.09191493,\n",
              "        0.73505984, 34.99271686, 48.22735154, 45.48646485, 11.5995282 ,\n",
              "       39.69783664, 12.71276251, 42.91282893, 34.93451401, 37.27964515,\n",
              "       13.17842185, 40.12708486, 35.21883505, 27.71588924, 46.40090931,\n",
              "       31.21941994, 50.90046891, 14.07339433, 49.05344276, 40.0538446 ,\n",
              "       38.24588962, 40.63256441, 47.01634759, 37.65598977, 39.85801839,\n",
              "       46.88588156, 43.7241343 , 20.94434531, 47.41546271, 45.40608841,\n",
              "       48.33783579, 48.98845389, 42.27403852, 42.5841908 , 36.04088185,\n",
              "       14.95491907, 36.61494629, 34.88196676, 28.33519081, 45.91188076,\n",
              "       33.19268817, 32.18910095, 14.95491907,  8.86547927, 10.36079881,\n",
              "       34.11119212, 28.48186875, 46.59826043, 32.96743316, 31.47635439,\n",
              "       45.75168852, 38.1732971 , 45.83734855, 45.10711423, 34.85434095,\n",
              "       37.43148997, 38.12216764, 37.54923793, 40.3686992 , 33.09139633,\n",
              "       42.32783358, 43.35398473, 28.43979763])"
            ]
          },
          "metadata": {},
          "execution_count": 13
        }
      ]
    },
    {
      "cell_type": "code",
      "metadata": {
        "colab": {
          "base_uri": "https://localhost:8080/"
        },
        "id": "Z9PumASQ98TF",
        "outputId": "b369c20d-ec01-4302-84a7-9409e0e27392"
      },
      "source": [
        "# importing r2_score module\n",
        "from sklearn.metrics import r2_score\n",
        "from sklearn.metrics import mean_squared_error\n",
        "# predicting the accuracy score\n",
        "score=r2_score(y_test,y_prediction)\n",
        "print(\"r2 socre is \",score)\n",
        "print(\"mean_sqrd_error is== \",mean_squared_error(y_test,y_prediction))\n",
        "print(\"root_mean_squared error of is==\",np.sqrt(mean_squared_error(y_test,y_prediction)))"
      ],
      "execution_count": null,
      "outputs": [
        {
          "output_type": "stream",
          "name": "stdout",
          "text": [
            "r2 socre is  0.6810580555095604\n",
            "mean_sqrd_error is==  53.5056191245078\n",
            "root_mean_squared error of is== 7.314753524522053\n"
          ]
        }
      ]
    },
    {
      "cell_type": "markdown",
      "metadata": {
        "id": "Di8AGujs-Z9W"
      },
      "source": [
        "#multi-collinearity"
      ]
    },
    {
      "cell_type": "code",
      "metadata": {
        "id": "OsYLJLlk5c0J",
        "colab": {
          "base_uri": "https://localhost:8080/"
        },
        "outputId": "e117287b-2e37-46ab-d375-9fcb2fe5c06c"
      },
      "source": [
        "#Q3) For the attached data set, check whether multi collinearity exists in your data set or not\n",
        "import numpy as np\n",
        "from statsmodels.stats.outliers_influence import variance_inflation_factor"
      ],
      "execution_count": null,
      "outputs": [
        {
          "output_type": "stream",
          "name": "stderr",
          "text": [
            "/usr/local/lib/python3.7/dist-packages/statsmodels/tools/_testing.py:19: FutureWarning: pandas.util.testing is deprecated. Use the functions in the public API at pandas.testing instead.\n",
            "  import pandas.util.testing as tm\n"
          ]
        }
      ]
    },
    {
      "cell_type": "code",
      "metadata": {
        "id": "WrOic7PaGbZu"
      },
      "source": [
        "#df = df[~df.isin([np.nan, np.inf, -np.inf]).any(1)]\n",
        "x_var = df[['X1', 'X2', 'X3', 'X4', 'X5', 'X6']]"
      ],
      "execution_count": null,
      "outputs": []
    },
    {
      "cell_type": "code",
      "metadata": {
        "id": "9tLyhg_Sas7t"
      },
      "source": [
        "def calc_vif(X):\n",
        "  vif_data = pd.DataFrame()\n",
        "  vif_data[\"feature\"] = x_var.columns\n",
        "  vif_data[\"VIF\"] = [variance_inflation_factor(x_var.values, i) for i in range(x_var.shape[1])]\n",
        "  return(vif)"
      ],
      "execution_count": null,
      "outputs": []
    },
    {
      "cell_type": "code",
      "metadata": {
        "id": "ziWF_89-G68a"
      },
      "source": [
        "vif_data = pd.DataFrame()\n",
        "vif_data[\"feature\"] = x_var.columns\n",
        "vif_data[\"VIF\"] = [variance_inflation_factor(x_var.values, i) for i in range(x_var.shape[1])]"
      ],
      "execution_count": null,
      "outputs": []
    },
    {
      "cell_type": "code",
      "metadata": {
        "id": "RS8HGMB7i0b5",
        "colab": {
          "base_uri": "https://localhost:8080/",
          "height": 237
        },
        "outputId": "4357e9b5-9456-46b6-b484-b8b22d48e7a9"
      },
      "source": [
        "vif_data "
      ],
      "execution_count": null,
      "outputs": [
        {
          "output_type": "execute_result",
          "data": {
            "text/html": [
              "<div>\n",
              "<style scoped>\n",
              "    .dataframe tbody tr th:only-of-type {\n",
              "        vertical-align: middle;\n",
              "    }\n",
              "\n",
              "    .dataframe tbody tr th {\n",
              "        vertical-align: top;\n",
              "    }\n",
              "\n",
              "    .dataframe thead th {\n",
              "        text-align: right;\n",
              "    }\n",
              "</style>\n",
              "<table border=\"1\" class=\"dataframe\">\n",
              "  <thead>\n",
              "    <tr style=\"text-align: right;\">\n",
              "      <th></th>\n",
              "      <th>feature</th>\n",
              "      <th>VIF</th>\n",
              "    </tr>\n",
              "  </thead>\n",
              "  <tbody>\n",
              "    <tr>\n",
              "      <th>0</th>\n",
              "      <td>X1</td>\n",
              "      <td>4.253389e+07</td>\n",
              "    </tr>\n",
              "    <tr>\n",
              "      <th>1</th>\n",
              "      <td>X2</td>\n",
              "      <td>3.471392e+00</td>\n",
              "    </tr>\n",
              "    <tr>\n",
              "      <th>2</th>\n",
              "      <td>X3</td>\n",
              "      <td>4.261358e+00</td>\n",
              "    </tr>\n",
              "    <tr>\n",
              "      <th>3</th>\n",
              "      <td>X4</td>\n",
              "      <td>4.748152e+00</td>\n",
              "    </tr>\n",
              "    <tr>\n",
              "      <th>4</th>\n",
              "      <td>X5</td>\n",
              "      <td>6.178301e+06</td>\n",
              "    </tr>\n",
              "    <tr>\n",
              "      <th>5</th>\n",
              "      <td>X6</td>\n",
              "      <td>4.198817e+07</td>\n",
              "    </tr>\n",
              "  </tbody>\n",
              "</table>\n",
              "</div>"
            ],
            "text/plain": [
              "  feature           VIF\n",
              "0      X1  4.253389e+07\n",
              "1      X2  3.471392e+00\n",
              "2      X3  4.261358e+00\n",
              "3      X4  4.748152e+00\n",
              "4      X5  6.178301e+06\n",
              "5      X6  4.198817e+07"
            ]
          },
          "metadata": {},
          "execution_count": 19
        }
      ]
    },
    {
      "cell_type": "code",
      "metadata": {
        "id": "K0nbczNIHNlZ"
      },
      "source": [
        "#VIF starts at 1 and has no upper limit\n",
        "#VIF = 1, no correlation between the independent variable and the other variables\n",
        "#VIF exceeding 5 or 10 indicates high multicollinearity between this independent variable and the others\n",
        "##since the VIF of feature \"X5\" is greater than 5 , \"X5\" has high multicollinearity b/w it's independent variables "
      ],
      "execution_count": null,
      "outputs": []
    },
    {
      "cell_type": "markdown",
      "metadata": {
        "id": "T2Bd2rFm-kAC"
      },
      "source": [
        "#PCA"
      ]
    },
    {
      "cell_type": "code",
      "metadata": {
        "id": "GsBFVu9yHUNk"
      },
      "source": [
        "# Q4) Apply the principal component companies on the data set and find out the \n",
        "#     appropriate number of dimensions.\n",
        "\n",
        "#scaling the data before applying PCA\n",
        "from sklearn.preprocessing import StandardScaler\n",
        "parameters = ['X1', 'X2', 'X3', 'X4', 'X5', 'X6']\n",
        "x = df.loc[:, parameters].values\n",
        "y = df.loc[:, ['Y']].values\n",
        "x = StandardScaler().fit_transform(x)"
      ],
      "execution_count": null,
      "outputs": []
    },
    {
      "cell_type": "code",
      "metadata": {
        "id": "WP3WoqU2Axdg",
        "colab": {
          "base_uri": "https://localhost:8080/"
        },
        "outputId": "33ca6dba-63d2-4821-8524-81cdec44c388"
      },
      "source": [
        "#to find out the number of Principal Components, we require\n",
        "# the amount of variance each component influences we can say\n",
        "# that the PCA is unsupervised algorithm that attempts to find the orthogonal component axes of maximum variance in a dataset\n",
        "from sklearn.decomposition import PCA\n",
        "\n",
        "pca = PCA()\n",
        "x = pca.fit_transform(x)\n",
        "x = pca.transform(x)\n",
        "explained_variance = pca.explained_variance_ratio_\n",
        "explained_variance"
      ],
      "execution_count": null,
      "outputs": [
        {
          "output_type": "execute_result",
          "data": {
            "text/plain": [
              "array([0.4457321 , 0.17457136, 0.16382823, 0.09924284, 0.09160335,\n",
              "       0.02502213])"
            ]
          },
          "metadata": {},
          "execution_count": 22
        }
      ]
    },
    {
      "cell_type": "code",
      "metadata": {
        "id": "RoAZ4kbCC-6S"
      },
      "source": [
        "# We observe that the first PC is responsible for \n",
        "# 44.57% variance. Similarly, the 2nd PC \n",
        "# causes 17.4% and 3rd Pc 16.3%. Adding these three\n",
        "# we get 78.27% of the information contained in the \n",
        "# feature set. Which means that we need to include more\n",
        "# PC's otherwise we'll lose 21.73% data.\n",
        "# therefore, including the 4th and 5th components\n",
        "# we get (78.27 + 9.9 + 9.1) = 97.17%     78.27 + 19 = 97.27\n",
        "# Now or PC's will hold 97.27% of original data"
      ],
      "execution_count": null,
      "outputs": []
    },
    {
      "cell_type": "code",
      "metadata": {
        "id": "4zfCqp-ZqCY0",
        "colab": {
          "base_uri": "https://localhost:8080/",
          "height": 424
        },
        "outputId": "dfca4946-8962-4f54-b353-45a504450ff9"
      },
      "source": [
        "from sklearn.decomposition import PCA\n",
        "pca = PCA(n_components = 5)\n",
        "principal = pca.fit_transform(x)\n",
        "principalDF = pd.DataFrame(data = principal, columns=[\"PC 1\",\"PC 2\",\"PC 3\",\"PC 4\",\"PC 5\"])\n",
        "principalDF"
      ],
      "execution_count": null,
      "outputs": [
        {
          "output_type": "execute_result",
          "data": {
            "text/html": [
              "<div>\n",
              "<style scoped>\n",
              "    .dataframe tbody tr th:only-of-type {\n",
              "        vertical-align: middle;\n",
              "    }\n",
              "\n",
              "    .dataframe tbody tr th {\n",
              "        vertical-align: top;\n",
              "    }\n",
              "\n",
              "    .dataframe thead th {\n",
              "        text-align: right;\n",
              "    }\n",
              "</style>\n",
              "<table border=\"1\" class=\"dataframe\">\n",
              "  <thead>\n",
              "    <tr style=\"text-align: right;\">\n",
              "      <th></th>\n",
              "      <th>PC 1</th>\n",
              "      <th>PC 2</th>\n",
              "      <th>PC 3</th>\n",
              "      <th>PC 4</th>\n",
              "      <th>PC 5</th>\n",
              "    </tr>\n",
              "  </thead>\n",
              "  <tbody>\n",
              "    <tr>\n",
              "      <th>0</th>\n",
              "      <td>-2.135051</td>\n",
              "      <td>-0.676826</td>\n",
              "      <td>1.445838</td>\n",
              "      <td>0.676539</td>\n",
              "      <td>-0.884810</td>\n",
              "    </tr>\n",
              "    <tr>\n",
              "      <th>1</th>\n",
              "      <td>-1.753059</td>\n",
              "      <td>0.175568</td>\n",
              "      <td>0.726922</td>\n",
              "      <td>0.735172</td>\n",
              "      <td>-0.799711</td>\n",
              "    </tr>\n",
              "    <tr>\n",
              "      <th>2</th>\n",
              "      <td>-1.362278</td>\n",
              "      <td>-0.850140</td>\n",
              "      <td>-1.462069</td>\n",
              "      <td>0.467402</td>\n",
              "      <td>0.651571</td>\n",
              "    </tr>\n",
              "    <tr>\n",
              "      <th>3</th>\n",
              "      <td>-1.368509</td>\n",
              "      <td>-0.662615</td>\n",
              "      <td>-1.239360</td>\n",
              "      <td>0.511189</td>\n",
              "      <td>0.648533</td>\n",
              "    </tr>\n",
              "    <tr>\n",
              "      <th>4</th>\n",
              "      <td>-1.151214</td>\n",
              "      <td>1.480461</td>\n",
              "      <td>0.087075</td>\n",
              "      <td>0.578730</td>\n",
              "      <td>0.252884</td>\n",
              "    </tr>\n",
              "    <tr>\n",
              "      <th>...</th>\n",
              "      <td>...</td>\n",
              "      <td>...</td>\n",
              "      <td>...</td>\n",
              "      <td>...</td>\n",
              "      <td>...</td>\n",
              "    </tr>\n",
              "    <tr>\n",
              "      <th>409</th>\n",
              "      <td>3.967160</td>\n",
              "      <td>0.659799</td>\n",
              "      <td>0.255857</td>\n",
              "      <td>-0.084335</td>\n",
              "      <td>-0.598247</td>\n",
              "    </tr>\n",
              "    <tr>\n",
              "      <th>410</th>\n",
              "      <td>-1.765708</td>\n",
              "      <td>1.755511</td>\n",
              "      <td>0.597248</td>\n",
              "      <td>0.595494</td>\n",
              "      <td>-1.054314</td>\n",
              "    </tr>\n",
              "    <tr>\n",
              "      <th>411</th>\n",
              "      <td>-1.347530</td>\n",
              "      <td>-0.442634</td>\n",
              "      <td>-0.219453</td>\n",
              "      <td>0.359240</td>\n",
              "      <td>-0.268152</td>\n",
              "    </tr>\n",
              "    <tr>\n",
              "      <th>412</th>\n",
              "      <td>-0.752471</td>\n",
              "      <td>1.074902</td>\n",
              "      <td>-0.163716</td>\n",
              "      <td>-0.256950</td>\n",
              "      <td>-0.225993</td>\n",
              "    </tr>\n",
              "    <tr>\n",
              "      <th>413</th>\n",
              "      <td>-1.703528</td>\n",
              "      <td>-0.184076</td>\n",
              "      <td>-1.586222</td>\n",
              "      <td>0.140266</td>\n",
              "      <td>-1.018991</td>\n",
              "    </tr>\n",
              "  </tbody>\n",
              "</table>\n",
              "<p>414 rows × 5 columns</p>\n",
              "</div>"
            ],
            "text/plain": [
              "         PC 1      PC 2      PC 3      PC 4      PC 5\n",
              "0   -2.135051 -0.676826  1.445838  0.676539 -0.884810\n",
              "1   -1.753059  0.175568  0.726922  0.735172 -0.799711\n",
              "2   -1.362278 -0.850140 -1.462069  0.467402  0.651571\n",
              "3   -1.368509 -0.662615 -1.239360  0.511189  0.648533\n",
              "4   -1.151214  1.480461  0.087075  0.578730  0.252884\n",
              "..        ...       ...       ...       ...       ...\n",
              "409  3.967160  0.659799  0.255857 -0.084335 -0.598247\n",
              "410 -1.765708  1.755511  0.597248  0.595494 -1.054314\n",
              "411 -1.347530 -0.442634 -0.219453  0.359240 -0.268152\n",
              "412 -0.752471  1.074902 -0.163716 -0.256950 -0.225993\n",
              "413 -1.703528 -0.184076 -1.586222  0.140266 -1.018991\n",
              "\n",
              "[414 rows x 5 columns]"
            ]
          },
          "metadata": {},
          "execution_count": 24
        }
      ]
    },
    {
      "cell_type": "code",
      "metadata": {
        "id": "Zr2TTB4prf-G",
        "colab": {
          "base_uri": "https://localhost:8080/",
          "height": 424
        },
        "outputId": "02726f35-6fa2-4bb9-fa26-ef69bbb4805e"
      },
      "source": [
        "finalDF = pd.concat([principalDF, df[[\"Y\"]]], axis = 1)\n",
        "finalDF"
      ],
      "execution_count": null,
      "outputs": [
        {
          "output_type": "execute_result",
          "data": {
            "text/html": [
              "<div>\n",
              "<style scoped>\n",
              "    .dataframe tbody tr th:only-of-type {\n",
              "        vertical-align: middle;\n",
              "    }\n",
              "\n",
              "    .dataframe tbody tr th {\n",
              "        vertical-align: top;\n",
              "    }\n",
              "\n",
              "    .dataframe thead th {\n",
              "        text-align: right;\n",
              "    }\n",
              "</style>\n",
              "<table border=\"1\" class=\"dataframe\">\n",
              "  <thead>\n",
              "    <tr style=\"text-align: right;\">\n",
              "      <th></th>\n",
              "      <th>PC 1</th>\n",
              "      <th>PC 2</th>\n",
              "      <th>PC 3</th>\n",
              "      <th>PC 4</th>\n",
              "      <th>PC 5</th>\n",
              "      <th>Y</th>\n",
              "    </tr>\n",
              "  </thead>\n",
              "  <tbody>\n",
              "    <tr>\n",
              "      <th>0</th>\n",
              "      <td>-2.135051</td>\n",
              "      <td>-0.676826</td>\n",
              "      <td>1.445838</td>\n",
              "      <td>0.676539</td>\n",
              "      <td>-0.884810</td>\n",
              "      <td>37.9</td>\n",
              "    </tr>\n",
              "    <tr>\n",
              "      <th>1</th>\n",
              "      <td>-1.753059</td>\n",
              "      <td>0.175568</td>\n",
              "      <td>0.726922</td>\n",
              "      <td>0.735172</td>\n",
              "      <td>-0.799711</td>\n",
              "      <td>42.2</td>\n",
              "    </tr>\n",
              "    <tr>\n",
              "      <th>2</th>\n",
              "      <td>-1.362278</td>\n",
              "      <td>-0.850140</td>\n",
              "      <td>-1.462069</td>\n",
              "      <td>0.467402</td>\n",
              "      <td>0.651571</td>\n",
              "      <td>47.3</td>\n",
              "    </tr>\n",
              "    <tr>\n",
              "      <th>3</th>\n",
              "      <td>-1.368509</td>\n",
              "      <td>-0.662615</td>\n",
              "      <td>-1.239360</td>\n",
              "      <td>0.511189</td>\n",
              "      <td>0.648533</td>\n",
              "      <td>54.8</td>\n",
              "    </tr>\n",
              "    <tr>\n",
              "      <th>4</th>\n",
              "      <td>-1.151214</td>\n",
              "      <td>1.480461</td>\n",
              "      <td>0.087075</td>\n",
              "      <td>0.578730</td>\n",
              "      <td>0.252884</td>\n",
              "      <td>43.1</td>\n",
              "    </tr>\n",
              "    <tr>\n",
              "      <th>...</th>\n",
              "      <td>...</td>\n",
              "      <td>...</td>\n",
              "      <td>...</td>\n",
              "      <td>...</td>\n",
              "      <td>...</td>\n",
              "      <td>...</td>\n",
              "    </tr>\n",
              "    <tr>\n",
              "      <th>409</th>\n",
              "      <td>3.967160</td>\n",
              "      <td>0.659799</td>\n",
              "      <td>0.255857</td>\n",
              "      <td>-0.084335</td>\n",
              "      <td>-0.598247</td>\n",
              "      <td>15.4</td>\n",
              "    </tr>\n",
              "    <tr>\n",
              "      <th>410</th>\n",
              "      <td>-1.765708</td>\n",
              "      <td>1.755511</td>\n",
              "      <td>0.597248</td>\n",
              "      <td>0.595494</td>\n",
              "      <td>-1.054314</td>\n",
              "      <td>50.0</td>\n",
              "    </tr>\n",
              "    <tr>\n",
              "      <th>411</th>\n",
              "      <td>-1.347530</td>\n",
              "      <td>-0.442634</td>\n",
              "      <td>-0.219453</td>\n",
              "      <td>0.359240</td>\n",
              "      <td>-0.268152</td>\n",
              "      <td>40.6</td>\n",
              "    </tr>\n",
              "    <tr>\n",
              "      <th>412</th>\n",
              "      <td>-0.752471</td>\n",
              "      <td>1.074902</td>\n",
              "      <td>-0.163716</td>\n",
              "      <td>-0.256950</td>\n",
              "      <td>-0.225993</td>\n",
              "      <td>52.5</td>\n",
              "    </tr>\n",
              "    <tr>\n",
              "      <th>413</th>\n",
              "      <td>-1.703528</td>\n",
              "      <td>-0.184076</td>\n",
              "      <td>-1.586222</td>\n",
              "      <td>0.140266</td>\n",
              "      <td>-1.018991</td>\n",
              "      <td>63.9</td>\n",
              "    </tr>\n",
              "  </tbody>\n",
              "</table>\n",
              "<p>414 rows × 6 columns</p>\n",
              "</div>"
            ],
            "text/plain": [
              "         PC 1      PC 2      PC 3      PC 4      PC 5     Y\n",
              "0   -2.135051 -0.676826  1.445838  0.676539 -0.884810  37.9\n",
              "1   -1.753059  0.175568  0.726922  0.735172 -0.799711  42.2\n",
              "2   -1.362278 -0.850140 -1.462069  0.467402  0.651571  47.3\n",
              "3   -1.368509 -0.662615 -1.239360  0.511189  0.648533  54.8\n",
              "4   -1.151214  1.480461  0.087075  0.578730  0.252884  43.1\n",
              "..        ...       ...       ...       ...       ...   ...\n",
              "409  3.967160  0.659799  0.255857 -0.084335 -0.598247  15.4\n",
              "410 -1.765708  1.755511  0.597248  0.595494 -1.054314  50.0\n",
              "411 -1.347530 -0.442634 -0.219453  0.359240 -0.268152  40.6\n",
              "412 -0.752471  1.074902 -0.163716 -0.256950 -0.225993  52.5\n",
              "413 -1.703528 -0.184076 -1.586222  0.140266 -1.018991  63.9\n",
              "\n",
              "[414 rows x 6 columns]"
            ]
          },
          "metadata": {},
          "execution_count": 25
        }
      ]
    },
    {
      "cell_type": "code",
      "metadata": {
        "id": "FfF3k7UbFZ1a"
      },
      "source": [
        "# therefor, according to the objective of our question we atleast need\n",
        "# 5 components to properly project our data without losing\n",
        "#valuable information "
      ],
      "execution_count": null,
      "outputs": []
    },
    {
      "cell_type": "markdown",
      "metadata": {
        "id": "YHLf4FjyAA6p"
      },
      "source": [
        "#Not Imp"
      ]
    },
    {
      "cell_type": "code",
      "metadata": {
        "colab": {
          "base_uri": "https://localhost:8080/",
          "height": 458
        },
        "id": "7rv2nEG0GRTg",
        "outputId": "29ee3782-2f7b-41dc-a480-c7a9b8ef3c62"
      },
      "source": [
        "import numpy as np\n",
        "import pandas as pd\n",
        "import matplotlib.pyplot as plt\n",
        "import sklearn\n",
        "from sklearn.preprocessing import StandardScaler, LabelEncoder\n",
        "from sklearn.model_selection import train_test_split\n",
        "from sklearn.discriminant_analysis import LinearDiscriminantAnalysis\n",
        "from sklearn.ensemble import RandomForestClassifier\n",
        "from sklearn.metrics import accuracy_score, confusion_matrix\n",
        "  \n",
        "\n",
        "# divide the dataset into class and target variable\n",
        "parameters = ['X1', 'X2', 'X3', 'X4', 'X5', 'X6']\n",
        "X = df.loc[:, parameters].values\n",
        "y = df.loc[:, ['Y']].values\n",
        "  \n",
        "# Preprocess the dataset and divide into train and test\n",
        "sc = StandardScaler()\n",
        "X = sc.fit_transform(X)\n",
        "le = LabelEncoder()\n",
        "y = le.fit_transform(y)\n",
        "X_train, X_test, y_train, y_test = train_test_split(X, y, test_size=0.2)\n",
        "  \n",
        "# apply Linear Discriminant Analysis\n",
        "lda = LinearDiscriminantAnalysis(n_components=3)\n",
        "X_train = lda.fit_transform(X_train, y_train)\n",
        "X_test = lda.transform(X_test)\n",
        "  \n",
        "# plot the scatterplot\n",
        "plt.scatter(\n",
        "    X_train[:,0],X_train[:,1],c=y_train,cmap='rainbow',\n",
        "  alpha=0.7,edgecolors='b'\n",
        ")\n",
        "  \n",
        "# classify using random forest classifier\n",
        "classifier = RandomForestClassifier(max_depth=2, random_state=0)\n",
        "classifier.fit(X_train, y_train)\n",
        "y_pred = classifier.predict(X_test)\n",
        "  \n",
        "# print the accuracy and confusion matrix\n",
        "print('Accuracy : ' + str(accuracy_score(y_test, y_pred)))\n",
        "conf_m = confusion_matrix(y_test, y_pred)\n",
        "print(conf_m)"
      ],
      "execution_count": null,
      "outputs": [
        {
          "output_type": "stream",
          "name": "stderr",
          "text": [
            "/usr/local/lib/python3.7/dist-packages/sklearn/preprocessing/_label.py:115: DataConversionWarning: A column-vector y was passed when a 1d array was expected. Please change the shape of y to (n_samples, ), for example using ravel().\n",
            "  y = column_or_1d(y, warn=True)\n"
          ]
        },
        {
          "output_type": "stream",
          "name": "stdout",
          "text": [
            "Accuracy : 0.0\n",
            "[[0 0 0 ... 0 0 0]\n",
            " [0 0 0 ... 0 0 0]\n",
            " [0 0 0 ... 0 0 0]\n",
            " ...\n",
            " [0 0 0 ... 0 0 0]\n",
            " [0 0 0 ... 0 0 0]\n",
            " [0 0 0 ... 0 0 0]]\n"
          ]
        },
        {
          "output_type": "display_data",
          "data": {
            "image/png": "[encoded data removed]",
            "text/plain": [
              "<Figure size 432x288 with 1 Axes>"
            ]
          },
          "metadata": {
            "needs_background": "light"
          }
        }
      ]
    },
    {
      "cell_type": "code",
      "metadata": {
        "id": "nD9azEZNs7KA",
        "colab": {
          "base_uri": "https://localhost:8080/"
        },
        "outputId": "b7beef78-a6f2-44f8-f996-8535a6af0084"
      },
      "source": [
        "## Q5) Apply LDA on the attached data set \n",
        "#and find out the first appropriate direction or the first axis.\n",
        "from sklearn.preprocessing import StandardScaler\n",
        "\n",
        "x = df.loc[:, parameters].values\n",
        "y = df.loc[:, ['Y']].values\n",
        "print(x.dtype)\n",
        "print(y.dtype)\n",
        "arr = y.astype(\"int32\")\n",
        "arr = x.astype(\"int32\")\n",
        "print(x.dtype)\n",
        "print(y.dtype)"
      ],
      "execution_count": null,
      "outputs": [
        {
          "output_type": "stream",
          "name": "stdout",
          "text": [
            "float64\n",
            "float64\n",
            "float64\n",
            "float64\n"
          ]
        }
      ]
    },
    {
      "cell_type": "code",
      "metadata": {
        "id": "6NqlhR2cL9k1",
        "colab": {
          "base_uri": "https://localhost:8080/",
          "height": 302
        },
        "outputId": "ab3d6add-224e-4ebf-8ec3-b01a7a595deb"
      },
      "source": [
        "x = StandardScaler().fit_transform(x)\n",
        "y = y.ravel()\n",
        "\n",
        "plt.bar([1,2],[97.876206, 1.751013],label='Principal Components',color='navy')\n",
        "plt.legend()\n",
        "plt.xlabel('Principal Components')\n",
        "plt.xticks([1,2],['PC-1','PC-2'], fontsize=8, rotation=30)\n",
        "plt.ylabel('Variance Ratio')\n",
        "plt.title('Variance Ratio after LDA')\n",
        "plt.show()"
      ],
      "execution_count": null,
      "outputs": [
        {
          "output_type": "display_data",
          "data": {
            "image/png": "[encoded data removed]",
            "text/plain": [
              "<Figure size 432x288 with 1 Axes>"
            ]
          },
          "metadata": {
            "needs_background": "light"
          }
        }
      ]
    },
    {
      "cell_type": "code",
      "metadata": {
        "id": "mi501gtJ3gRC"
      },
      "source": [
        "from sklearn.preprocessing import StandardScaler\n",
        "\n",
        "sc = StandardScaler()\n",
        "x_train = sc.fit_transform(x_train)\n",
        "x_test = sc.transform(x_test)"
      ],
      "execution_count": null,
      "outputs": []
    },
    {
      "cell_type": "code",
      "metadata": {
        "id": "RiOXxUwV6I1U",
        "colab": {
          "base_uri": "https://localhost:8080/",
          "height": 989
        },
        "outputId": "8f930d29-3024-47c6-a9fc-a52d35d016f7"
      },
      "source": [
        "from sklearn.discriminant_analysis import LinearDiscriminantAnalysis as LDA\n",
        "from sklearn.model_selection import train_test_split\n",
        "import matplotlib.pyplot as plt\n",
        "from sklearn import decomposition\n",
        "\n",
        "x_train, x_test, y_train, y_test = train_test_split(x, y, test_size=0.2, random_state=0)\n",
        "lda = LDA(n_components=1)\n",
        "x_train = lda.fit_transform(x_train, y_train)\n",
        "x_test = lda.transform(x_test)"
      ],
      "execution_count": null,
      "outputs": [
        {
          "output_type": "error",
          "ename": "ValueError",
          "evalue": "ignored",
          "traceback": [
            "\u001b[0;31m---------------------------------------------------------------------------\u001b[0m",
            "\u001b[0;31mValueError\u001b[0m                                Traceback (most recent call last)",
            "\u001b[0;32m<ipython-input-31-146f41b79af2>\u001b[0m in \u001b[0;36m<module>\u001b[0;34m()\u001b[0m\n\u001b[1;32m      6\u001b[0m \u001b[0mx_train\u001b[0m\u001b[0;34m,\u001b[0m \u001b[0mx_test\u001b[0m\u001b[0;34m,\u001b[0m \u001b[0my_train\u001b[0m\u001b[0;34m,\u001b[0m \u001b[0my_test\u001b[0m \u001b[0;34m=\u001b[0m \u001b[0mtrain_test_split\u001b[0m\u001b[0;34m(\u001b[0m\u001b[0mx\u001b[0m\u001b[0;34m,\u001b[0m \u001b[0my\u001b[0m\u001b[0;34m,\u001b[0m \u001b[0mtest_size\u001b[0m\u001b[0;34m=\u001b[0m\u001b[0;36m0.2\u001b[0m\u001b[0;34m,\u001b[0m \u001b[0mrandom_state\u001b[0m\u001b[0;34m=\u001b[0m\u001b[0;36m0\u001b[0m\u001b[0;34m)\u001b[0m\u001b[0;34m\u001b[0m\u001b[0;34m\u001b[0m\u001b[0m\n\u001b[1;32m      7\u001b[0m \u001b[0mlda\u001b[0m \u001b[0;34m=\u001b[0m \u001b[0mLDA\u001b[0m\u001b[0;34m(\u001b[0m\u001b[0mn_components\u001b[0m\u001b[0;34m=\u001b[0m\u001b[0;36m1\u001b[0m\u001b[0;34m)\u001b[0m\u001b[0;34m\u001b[0m\u001b[0;34m\u001b[0m\u001b[0m\n\u001b[0;32m----> 8\u001b[0;31m \u001b[0mx_train\u001b[0m \u001b[0;34m=\u001b[0m \u001b[0mlda\u001b[0m\u001b[0;34m.\u001b[0m\u001b[0mfit_transform\u001b[0m\u001b[0;34m(\u001b[0m\u001b[0mx_train\u001b[0m\u001b[0;34m,\u001b[0m \u001b[0my_train\u001b[0m\u001b[0;34m)\u001b[0m\u001b[0;34m\u001b[0m\u001b[0;34m\u001b[0m\u001b[0m\n\u001b[0m\u001b[1;32m      9\u001b[0m \u001b[0mx_test\u001b[0m \u001b[0;34m=\u001b[0m \u001b[0mlda\u001b[0m\u001b[0;34m.\u001b[0m\u001b[0mtransform\u001b[0m\u001b[0;34m(\u001b[0m\u001b[0mx_test\u001b[0m\u001b[0;34m)\u001b[0m\u001b[0;34m\u001b[0m\u001b[0;34m\u001b[0m\u001b[0m\n",
            "\u001b[0;32m/usr/local/lib/python3.7/dist-packages/sklearn/base.py\u001b[0m in \u001b[0;36mfit_transform\u001b[0;34m(self, X, y, **fit_params)\u001b[0m\n\u001b[1;32m    848\u001b[0m         \u001b[0;32melse\u001b[0m\u001b[0;34m:\u001b[0m\u001b[0;34m\u001b[0m\u001b[0;34m\u001b[0m\u001b[0m\n\u001b[1;32m    849\u001b[0m             \u001b[0;31m# fit method of arity 2 (supervised transformation)\u001b[0m\u001b[0;34m\u001b[0m\u001b[0;34m\u001b[0m\u001b[0;34m\u001b[0m\u001b[0m\n\u001b[0;32m--> 850\u001b[0;31m             \u001b[0;32mreturn\u001b[0m \u001b[0mself\u001b[0m\u001b[0;34m.\u001b[0m\u001b[0mfit\u001b[0m\u001b[0;34m(\u001b[0m\u001b[0mX\u001b[0m\u001b[0;34m,\u001b[0m \u001b[0my\u001b[0m\u001b[0;34m,\u001b[0m \u001b[0;34m**\u001b[0m\u001b[0mfit_params\u001b[0m\u001b[0;34m)\u001b[0m\u001b[0;34m.\u001b[0m\u001b[0mtransform\u001b[0m\u001b[0;34m(\u001b[0m\u001b[0mX\u001b[0m\u001b[0;34m)\u001b[0m\u001b[0;34m\u001b[0m\u001b[0;34m\u001b[0m\u001b[0m\n\u001b[0m\u001b[1;32m    851\u001b[0m \u001b[0;34m\u001b[0m\u001b[0m\n\u001b[1;32m    852\u001b[0m \u001b[0;34m\u001b[0m\u001b[0m\n",
            "\u001b[0;32m/usr/local/lib/python3.7/dist-packages/sklearn/discriminant_analysis.py\u001b[0m in \u001b[0;36mfit\u001b[0;34m(self, X, y)\u001b[0m\n\u001b[1;32m    545\u001b[0m             \u001b[0mX\u001b[0m\u001b[0;34m,\u001b[0m \u001b[0my\u001b[0m\u001b[0;34m,\u001b[0m \u001b[0mensure_min_samples\u001b[0m\u001b[0;34m=\u001b[0m\u001b[0;36m2\u001b[0m\u001b[0;34m,\u001b[0m \u001b[0mestimator\u001b[0m\u001b[0;34m=\u001b[0m\u001b[0mself\u001b[0m\u001b[0;34m,\u001b[0m \u001b[0mdtype\u001b[0m\u001b[0;34m=\u001b[0m\u001b[0;34m[\u001b[0m\u001b[0mnp\u001b[0m\u001b[0;34m.\u001b[0m\u001b[0mfloat64\u001b[0m\u001b[0;34m,\u001b[0m \u001b[0mnp\u001b[0m\u001b[0;34m.\u001b[0m\u001b[0mfloat32\u001b[0m\u001b[0;34m]\u001b[0m\u001b[0;34m\u001b[0m\u001b[0;34m\u001b[0m\u001b[0m\n\u001b[1;32m    546\u001b[0m         )\n\u001b[0;32m--> 547\u001b[0;31m         \u001b[0mself\u001b[0m\u001b[0;34m.\u001b[0m\u001b[0mclasses_\u001b[0m \u001b[0;34m=\u001b[0m \u001b[0munique_labels\u001b[0m\u001b[0;34m(\u001b[0m\u001b[0my\u001b[0m\u001b[0;34m)\u001b[0m\u001b[0;34m\u001b[0m\u001b[0;34m\u001b[0m\u001b[0m\n\u001b[0m\u001b[1;32m    548\u001b[0m         \u001b[0mn_samples\u001b[0m\u001b[0;34m,\u001b[0m \u001b[0m_\u001b[0m \u001b[0;34m=\u001b[0m \u001b[0mX\u001b[0m\u001b[0;34m.\u001b[0m\u001b[0mshape\u001b[0m\u001b[0;34m\u001b[0m\u001b[0;34m\u001b[0m\u001b[0m\n\u001b[1;32m    549\u001b[0m         \u001b[0mn_classes\u001b[0m \u001b[0;34m=\u001b[0m \u001b[0mlen\u001b[0m\u001b[0;34m(\u001b[0m\u001b[0mself\u001b[0m\u001b[0;34m.\u001b[0m\u001b[0mclasses_\u001b[0m\u001b[0;34m)\u001b[0m\u001b[0;34m\u001b[0m\u001b[0;34m\u001b[0m\u001b[0m\n",
            "\u001b[0;32m/usr/local/lib/python3.7/dist-packages/sklearn/utils/multiclass.py\u001b[0m in \u001b[0;36munique_labels\u001b[0;34m(*ys)\u001b[0m\n\u001b[1;32m    100\u001b[0m     \u001b[0m_unique_labels\u001b[0m \u001b[0;34m=\u001b[0m \u001b[0m_FN_UNIQUE_LABELS\u001b[0m\u001b[0;34m.\u001b[0m\u001b[0mget\u001b[0m\u001b[0;34m(\u001b[0m\u001b[0mlabel_type\u001b[0m\u001b[0;34m,\u001b[0m \u001b[0;32mNone\u001b[0m\u001b[0;34m)\u001b[0m\u001b[0;34m\u001b[0m\u001b[0;34m\u001b[0m\u001b[0m\n\u001b[1;32m    101\u001b[0m     \u001b[0;32mif\u001b[0m \u001b[0;32mnot\u001b[0m \u001b[0m_unique_labels\u001b[0m\u001b[0;34m:\u001b[0m\u001b[0;34m\u001b[0m\u001b[0;34m\u001b[0m\u001b[0m\n\u001b[0;32m--> 102\u001b[0;31m         \u001b[0;32mraise\u001b[0m \u001b[0mValueError\u001b[0m\u001b[0;34m(\u001b[0m\u001b[0;34m\"Unknown label type: %s\"\u001b[0m \u001b[0;34m%\u001b[0m \u001b[0mrepr\u001b[0m\u001b[0;34m(\u001b[0m\u001b[0mys\u001b[0m\u001b[0;34m)\u001b[0m\u001b[0;34m)\u001b[0m\u001b[0;34m\u001b[0m\u001b[0;34m\u001b[0m\u001b[0m\n\u001b[0m\u001b[1;32m    103\u001b[0m \u001b[0;34m\u001b[0m\u001b[0m\n\u001b[1;32m    104\u001b[0m     \u001b[0mys_labels\u001b[0m \u001b[0;34m=\u001b[0m \u001b[0mset\u001b[0m\u001b[0;34m(\u001b[0m\u001b[0mchain\u001b[0m\u001b[0;34m.\u001b[0m\u001b[0mfrom_iterable\u001b[0m\u001b[0;34m(\u001b[0m\u001b[0m_unique_labels\u001b[0m\u001b[0;34m(\u001b[0m\u001b[0my\u001b[0m\u001b[0;34m)\u001b[0m \u001b[0;32mfor\u001b[0m \u001b[0my\u001b[0m \u001b[0;32min\u001b[0m \u001b[0mys\u001b[0m\u001b[0;34m)\u001b[0m\u001b[0;34m)\u001b[0m\u001b[0;34m\u001b[0m\u001b[0;34m\u001b[0m\u001b[0m\n",
            "\u001b[0;31mValueError\u001b[0m: Unknown label type: (array([ 23.2,  29.3,  38.4,  37.5,  34.3,  44.8,  54.4,  37.9,   7.6,\n        29.5,  25.3,  13.7,  30. ,  30.8,  40.6,  20.7,  40.8,  55.3,\n        40.5,  40.8,  40.3,  33.1,  26.2,  41.9,  18.8,  78. ,  15.6,\n        39.4,  41. ,  23.5,  35.6,  47.1,  35.6,  55. ,  41.5,  37.4,\n        21.8,  31.3,  36.8,  26.6,  40. ,  50. ,  38.1,  59.5,  56.8,\n        25.3,  32.4,  37.8,  49.8,  52.7,  21.8,  28.8,  29.3,  37.4,\n        37.4,  44. ,  50.7,  42.3,  36.5,  51.4,  32.9,  38.6,  21.4,\n        50.4,  37.4,  52.2,  58.8,  43.8,  22.1,  53.3,  17.4,  45.7,\n        36.6,  39.7,  15.4,  12.2,  46.6,  31.3,  22.3,  23.1,  17.4,\n        46.8,  32.9,  62.9,  25.5,  42.2,  42.5,  39.5,  49.3,  31.3,\n        11.6,  55.1,  19. ,  34.6,  50.8,  63.2,  43.4,  35.1,  27.3,\n        41.2,  37.2,  23.1,  14.7,  34.1,  37.5,  42. ,  25.6,  53.3,\n        41.4,  20. ,  47.4,  24.7,  38.5,  49. ,  57.1,  55.9,  36.9,\n        25.6,  20.7,  37. ,  29.5,  33.6,  47.3,  23.9,  18.3,  35.7,\n        67.7,  40.6,  43.5,  31.1,  51.8,  61.9,  56.3,  63.3,  48.1,\n        18.6,  20.5,  20.9,  27.3,  26.6,  34. ,  52.2,  56.8,  38.8,\n        44. ,  39.7,  53.9,  30.6,  42.3,  41. ,  16.1,  39.4,  73.6,\n        44.5,  36.7,  30.5,  15.9,  42.3,  34.1,  26.5,  24.4,  31.7,\n        40.8,  23.8,  28.6,  58. ,  37.3,  42.9,  28.1,  46.6,  57.8,\n        30.5,  39.6,  17.7,  40.6,  27.3,  51.6,  39.7,  28.9,  70.1,\n        45.4,  28.4,  11.2,  42.5,  39. ,  30.7,  39.6,  22.3,  47. ,\n        47.7,  23. ,  12.8,  26.9,  54.8,  52.2,  48.6,  25.6,  21.8,\n        42.8,  35.3,  49.7,  40.5,  23.6,  22.8,  40.3,  63.3,  58.1,\n        24.7,  27. ,  23.7,  22.9,  42.5,  22.6,  18.2, 117.5,  44.2,\n        40.9,  12.8,  19.2,  41.2,  45.5,  48.5,  27.7,  32.2,  37.5,\n        22. ,  47.9,  34.1,  37.9,  45.9,  25.7,  51. ,  29.4,  27.7,\n        36.7,  26.5,  41. ,  29.3,  51.8,  33.1,  23.5,  42. ,  55. ,\n        13.4,  34.2,  31.1,  40.2,  45.1,  40.1,  15.5,  30.7,  42.1,\n        52.5,  53. ,  31.3,  46.1,  43.7,  48. ,  45.1,  69.7,  43.2,\n        48.1,  41.1,  59.6,  54.4,  53.5,  37.7,  43.9,  43.1,  34.7,\n        71. ,  47.3,  29.3,  24.8,  47.7,  38.9,  47.1,  60.7,  37. ,\n        47. ,  18.8,  55.5,  44.7,  21.7,  31.5,  25. ,  34.2,  55. ,\n        21.5,  46.6,  51. ,  23.8,  43.2,  55.3,  40.3,  42. ,  62.2,\n        36.3,  36.5,  48.2,  48.2,  46.4,  38.1,  36.3,  38.4,  27. ,\n        30.6,  30.9,  23. ,  45.2,  35.5,  46.2,  49.3,  41.6,  31.9,\n        48. ,  59. ,  18.3,  24.5,  33.4,  27.7,  43.5,  22.1,  24.7,\n        34.6,  13.8,  42.5,  42.7,  13. ,  61.5,  58.1]),)"
          ]
        }
      ]
    },
    {
      "cell_type": "code",
      "metadata": {
        "id": "EAyOVSDm6SQG"
      },
      "source": [
        "from sklearn.ensemble import RandomForestClassifier\n",
        "\n",
        "classifier = RandomForestClassifier(max_depth=2, random_state=0)\n",
        "\n",
        "classifier.fit(x_train, y_train)\n",
        "y_pred = classifier.predict(x_test)"
      ],
      "execution_count": null,
      "outputs": []
    },
    {
      "cell_type": "code",
      "metadata": {
        "id": "abCuJoAa6_r6"
      },
      "source": [
        ""
      ],
      "execution_count": null,
      "outputs": []
    }
  ]
}