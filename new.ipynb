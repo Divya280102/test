{
  "nbformat": 4,
  "nbformat_minor": 0,
  "metadata": {
    "colab": {
      "name": "new.ipynb",
      "provenance": [],
      "collapsed_sections": [
        "X2BFp5eWYwkw",
        "Dz51W0tWle8N",
        "hn1FBOiyTUH1",
        "Z4hHDKmabPF_"
      ],
      "include_colab_link": true
    },
    "kernelspec": {
      "name": "python3",
      "display_name": "Python 3"
    },
    "language_info": {
      "name": "python"
    }
  },
  "cells": [
    {
      "cell_type": "markdown",
      "metadata": {
        "id": "view-in-github",
        "colab_type": "text"
      },
      "source": [
        "<a href=\"https://colab.research.google.com/github/nastynoice/test/blob/main/new.ipynb\" target=\"_parent\"><img src=\"https://colab.research.google.com/assets/colab-badge.svg\" alt=\"Open In Colab\"/></a>"
      ]
    },
    {
      "cell_type": "code",
      "metadata": {
        "id": "mWrRnvzoTHNt"
      },
      "source": [
        "import matplotlib.pyplot as plt\n",
        "import matplotlib as mpl\n",
        "import numpy as np\n",
        "import pandas as pd\n",
        "import pylab as pl\n",
        "data=pd.read_csv(\"/content/Real estate.csv\")"
      ],
      "execution_count": 1,
      "outputs": []
    },
    {
      "cell_type": "code",
      "metadata": {
        "colab": {
          "base_uri": "https://localhost:8080/",
          "height": 510
        },
        "id": "1IO-dDZzTywy",
        "outputId": "c16272e8-9053-4a9d-b470-925f06f3aa74"
      },
      "source": [
        "data"
      ],
      "execution_count": 2,
      "outputs": [
        {
          "output_type": "execute_result",
          "data": {
            "text/html": [
              "<div>\n",
              "<style scoped>\n",
              "    .dataframe tbody tr th:only-of-type {\n",
              "        vertical-align: middle;\n",
              "    }\n",
              "\n",
              "    .dataframe tbody tr th {\n",
              "        vertical-align: top;\n",
              "    }\n",
              "\n",
              "    .dataframe thead th {\n",
              "        text-align: right;\n",
              "    }\n",
              "</style>\n",
              "<table border=\"1\" class=\"dataframe\">\n",
              "  <thead>\n",
              "    <tr style=\"text-align: right;\">\n",
              "      <th></th>\n",
              "      <th>No</th>\n",
              "      <th>X1 transaction date</th>\n",
              "      <th>X2 house age</th>\n",
              "      <th>X3 distance to the nearest MRT station</th>\n",
              "      <th>X4 number of convenience stores</th>\n",
              "      <th>X5 latitude</th>\n",
              "      <th>X6 longitude</th>\n",
              "      <th>Y house price of unit area</th>\n",
              "    </tr>\n",
              "  </thead>\n",
              "  <tbody>\n",
              "    <tr>\n",
              "      <th>0</th>\n",
              "      <td>1</td>\n",
              "      <td>2012.917</td>\n",
              "      <td>32.0</td>\n",
              "      <td>84.87882</td>\n",
              "      <td>10</td>\n",
              "      <td>24.98298</td>\n",
              "      <td>121.54024</td>\n",
              "      <td>37.9</td>\n",
              "    </tr>\n",
              "    <tr>\n",
              "      <th>1</th>\n",
              "      <td>2</td>\n",
              "      <td>2012.917</td>\n",
              "      <td>19.5</td>\n",
              "      <td>306.59470</td>\n",
              "      <td>9</td>\n",
              "      <td>24.98034</td>\n",
              "      <td>121.53951</td>\n",
              "      <td>42.2</td>\n",
              "    </tr>\n",
              "    <tr>\n",
              "      <th>2</th>\n",
              "      <td>3</td>\n",
              "      <td>2013.583</td>\n",
              "      <td>13.3</td>\n",
              "      <td>561.98450</td>\n",
              "      <td>5</td>\n",
              "      <td>24.98746</td>\n",
              "      <td>121.54391</td>\n",
              "      <td>47.3</td>\n",
              "    </tr>\n",
              "    <tr>\n",
              "      <th>3</th>\n",
              "      <td>4</td>\n",
              "      <td>2013.500</td>\n",
              "      <td>13.3</td>\n",
              "      <td>561.98450</td>\n",
              "      <td>5</td>\n",
              "      <td>24.98746</td>\n",
              "      <td>121.54391</td>\n",
              "      <td>54.8</td>\n",
              "    </tr>\n",
              "    <tr>\n",
              "      <th>4</th>\n",
              "      <td>5</td>\n",
              "      <td>2012.833</td>\n",
              "      <td>5.0</td>\n",
              "      <td>390.56840</td>\n",
              "      <td>5</td>\n",
              "      <td>24.97937</td>\n",
              "      <td>121.54245</td>\n",
              "      <td>43.1</td>\n",
              "    </tr>\n",
              "    <tr>\n",
              "      <th>...</th>\n",
              "      <td>...</td>\n",
              "      <td>...</td>\n",
              "      <td>...</td>\n",
              "      <td>...</td>\n",
              "      <td>...</td>\n",
              "      <td>...</td>\n",
              "      <td>...</td>\n",
              "      <td>...</td>\n",
              "    </tr>\n",
              "    <tr>\n",
              "      <th>409</th>\n",
              "      <td>410</td>\n",
              "      <td>2013.000</td>\n",
              "      <td>13.7</td>\n",
              "      <td>4082.01500</td>\n",
              "      <td>0</td>\n",
              "      <td>24.94155</td>\n",
              "      <td>121.50381</td>\n",
              "      <td>15.4</td>\n",
              "    </tr>\n",
              "    <tr>\n",
              "      <th>410</th>\n",
              "      <td>411</td>\n",
              "      <td>2012.667</td>\n",
              "      <td>5.6</td>\n",
              "      <td>90.45606</td>\n",
              "      <td>9</td>\n",
              "      <td>24.97433</td>\n",
              "      <td>121.54310</td>\n",
              "      <td>50.0</td>\n",
              "    </tr>\n",
              "    <tr>\n",
              "      <th>411</th>\n",
              "      <td>412</td>\n",
              "      <td>2013.250</td>\n",
              "      <td>18.8</td>\n",
              "      <td>390.96960</td>\n",
              "      <td>7</td>\n",
              "      <td>24.97923</td>\n",
              "      <td>121.53986</td>\n",
              "      <td>40.6</td>\n",
              "    </tr>\n",
              "    <tr>\n",
              "      <th>412</th>\n",
              "      <td>413</td>\n",
              "      <td>2013.000</td>\n",
              "      <td>8.1</td>\n",
              "      <td>104.81010</td>\n",
              "      <td>5</td>\n",
              "      <td>24.96674</td>\n",
              "      <td>121.54067</td>\n",
              "      <td>52.5</td>\n",
              "    </tr>\n",
              "    <tr>\n",
              "      <th>413</th>\n",
              "      <td>414</td>\n",
              "      <td>2013.500</td>\n",
              "      <td>6.5</td>\n",
              "      <td>90.45606</td>\n",
              "      <td>9</td>\n",
              "      <td>24.97433</td>\n",
              "      <td>121.54310</td>\n",
              "      <td>63.9</td>\n",
              "    </tr>\n",
              "  </tbody>\n",
              "</table>\n",
              "<p>414 rows × 8 columns</p>\n",
              "</div>"
            ],
            "text/plain": [
              "      No  X1 transaction date  ...  X6 longitude  Y house price of unit area\n",
              "0      1             2012.917  ...     121.54024                        37.9\n",
              "1      2             2012.917  ...     121.53951                        42.2\n",
              "2      3             2013.583  ...     121.54391                        47.3\n",
              "3      4             2013.500  ...     121.54391                        54.8\n",
              "4      5             2012.833  ...     121.54245                        43.1\n",
              "..   ...                  ...  ...           ...                         ...\n",
              "409  410             2013.000  ...     121.50381                        15.4\n",
              "410  411             2012.667  ...     121.54310                        50.0\n",
              "411  412             2013.250  ...     121.53986                        40.6\n",
              "412  413             2013.000  ...     121.54067                        52.5\n",
              "413  414             2013.500  ...     121.54310                        63.9\n",
              "\n",
              "[414 rows x 8 columns]"
            ]
          },
          "metadata": {},
          "execution_count": 2
        }
      ]
    },
    {
      "cell_type": "markdown",
      "metadata": {
        "id": "X2BFp5eWYwkw"
      },
      "source": [
        "# Collinearity for Assignment"
      ]
    },
    {
      "cell_type": "code",
      "metadata": {
        "colab": {
          "base_uri": "https://localhost:8080/"
        },
        "id": "Ts-rR2VnT3Ei",
        "outputId": "99da728e-c81e-4408-aea1-748aaea74920"
      },
      "source": [
        "matrix = data.corr()\n",
        "print(matrix)"
      ],
      "execution_count": 3,
      "outputs": [
        {
          "output_type": "stream",
          "name": "stdout",
          "text": [
            "                                              No  ...  Y house price of unit area\n",
            "No                                      1.000000  ...                   -0.028587\n",
            "X1 transaction date                    -0.048658  ...                    0.087491\n",
            "X2 house age                           -0.032808  ...                   -0.210567\n",
            "X3 distance to the nearest MRT station -0.013573  ...                   -0.673613\n",
            "X4 number of convenience stores        -0.012699  ...                    0.571005\n",
            "X5 latitude                            -0.010110  ...                    0.546307\n",
            "X6 longitude                           -0.011059  ...                    0.523287\n",
            "Y house price of unit area             -0.028587  ...                    1.000000\n",
            "\n",
            "[8 rows x 8 columns]\n"
          ]
        }
      ]
    },
    {
      "cell_type": "code",
      "metadata": {
        "colab": {
          "base_uri": "https://localhost:8080/",
          "height": 0
        },
        "id": "c9mLXIWiUj5t",
        "outputId": "598807ae-c468-4e19-c35e-4b179c7c7ade"
      },
      "source": [
        "plt.matshow(matrix)\n",
        "# our data has -ve correlation"
      ],
      "execution_count": 4,
      "outputs": [
        {
          "output_type": "execute_result",
          "data": {
            "text/plain": [
              "<matplotlib.image.AxesImage at 0x7f3c8243c2d0>"
            ]
          },
          "metadata": {},
          "execution_count": 4
        },
        {
          "output_type": "display_data",
          "data": {
            "image/png": "[encoded data removed]",
            "text/plain": [
              "<Figure size 288x288 with 1 Axes>"
            ]
          },
          "metadata": {
            "needs_background": "light"
          }
        }
      ]
    },
    {
      "cell_type": "markdown",
      "metadata": {
        "id": "Dz51W0tWle8N"
      },
      "source": [
        "\n",
        "># PCA\n",
        "\n",
        "\n",
        "\n",
        "\n",
        "\n"
      ]
    },
    {
      "cell_type": "code",
      "metadata": {
        "colab": {
          "base_uri": "https://localhost:8080/",
          "height": 0
        },
        "id": "a5d9nyg2l6FL",
        "outputId": "b8419cd7-6e34-424e-a6d1-70ccc95eab7e"
      },
      "source": [
        "print(data.columns)\n",
        "data.columns=[\"No\",\"x1\",\"x2\",\"x3\",\"x4\",\"x5\",\"x6\",\"x7\"]\n",
        "data.head()"
      ],
      "execution_count": 5,
      "outputs": [
        {
          "output_type": "stream",
          "name": "stdout",
          "text": [
            "Index(['No', 'X1 transaction date', 'X2 house age',\n",
            "       'X3 distance to the nearest MRT station',\n",
            "       'X4 number of convenience stores', 'X5 latitude', 'X6 longitude',\n",
            "       'Y house price of unit area'],\n",
            "      dtype='object')\n"
          ]
        },
        {
          "output_type": "execute_result",
          "data": {
            "text/html": [
              "<div>\n",
              "<style scoped>\n",
              "    .dataframe tbody tr th:only-of-type {\n",
              "        vertical-align: middle;\n",
              "    }\n",
              "\n",
              "    .dataframe tbody tr th {\n",
              "        vertical-align: top;\n",
              "    }\n",
              "\n",
              "    .dataframe thead th {\n",
              "        text-align: right;\n",
              "    }\n",
              "</style>\n",
              "<table border=\"1\" class=\"dataframe\">\n",
              "  <thead>\n",
              "    <tr style=\"text-align: right;\">\n",
              "      <th></th>\n",
              "      <th>No</th>\n",
              "      <th>x1</th>\n",
              "      <th>x2</th>\n",
              "      <th>x3</th>\n",
              "      <th>x4</th>\n",
              "      <th>x5</th>\n",
              "      <th>x6</th>\n",
              "      <th>x7</th>\n",
              "    </tr>\n",
              "  </thead>\n",
              "  <tbody>\n",
              "    <tr>\n",
              "      <th>0</th>\n",
              "      <td>1</td>\n",
              "      <td>2012.917</td>\n",
              "      <td>32.0</td>\n",
              "      <td>84.87882</td>\n",
              "      <td>10</td>\n",
              "      <td>24.98298</td>\n",
              "      <td>121.54024</td>\n",
              "      <td>37.9</td>\n",
              "    </tr>\n",
              "    <tr>\n",
              "      <th>1</th>\n",
              "      <td>2</td>\n",
              "      <td>2012.917</td>\n",
              "      <td>19.5</td>\n",
              "      <td>306.59470</td>\n",
              "      <td>9</td>\n",
              "      <td>24.98034</td>\n",
              "      <td>121.53951</td>\n",
              "      <td>42.2</td>\n",
              "    </tr>\n",
              "    <tr>\n",
              "      <th>2</th>\n",
              "      <td>3</td>\n",
              "      <td>2013.583</td>\n",
              "      <td>13.3</td>\n",
              "      <td>561.98450</td>\n",
              "      <td>5</td>\n",
              "      <td>24.98746</td>\n",
              "      <td>121.54391</td>\n",
              "      <td>47.3</td>\n",
              "    </tr>\n",
              "    <tr>\n",
              "      <th>3</th>\n",
              "      <td>4</td>\n",
              "      <td>2013.500</td>\n",
              "      <td>13.3</td>\n",
              "      <td>561.98450</td>\n",
              "      <td>5</td>\n",
              "      <td>24.98746</td>\n",
              "      <td>121.54391</td>\n",
              "      <td>54.8</td>\n",
              "    </tr>\n",
              "    <tr>\n",
              "      <th>4</th>\n",
              "      <td>5</td>\n",
              "      <td>2012.833</td>\n",
              "      <td>5.0</td>\n",
              "      <td>390.56840</td>\n",
              "      <td>5</td>\n",
              "      <td>24.97937</td>\n",
              "      <td>121.54245</td>\n",
              "      <td>43.1</td>\n",
              "    </tr>\n",
              "  </tbody>\n",
              "</table>\n",
              "</div>"
            ],
            "text/plain": [
              "   No        x1    x2         x3  x4        x5         x6    x7\n",
              "0   1  2012.917  32.0   84.87882  10  24.98298  121.54024  37.9\n",
              "1   2  2012.917  19.5  306.59470   9  24.98034  121.53951  42.2\n",
              "2   3  2013.583  13.3  561.98450   5  24.98746  121.54391  47.3\n",
              "3   4  2013.500  13.3  561.98450   5  24.98746  121.54391  54.8\n",
              "4   5  2012.833   5.0  390.56840   5  24.97937  121.54245  43.1"
            ]
          },
          "metadata": {},
          "execution_count": 5
        }
      ]
    },
    {
      "cell_type": "code",
      "metadata": {
        "colab": {
          "base_uri": "https://localhost:8080/"
        },
        "id": "UympyeCGGAda",
        "outputId": "9586d95b-47cb-44c0-d014-96ff1c76ff16"
      },
      "source": [
        "from sklearn.preprocessing import StandardScaler\n",
        "data_std = StandardScaler().fit_transform(data)\n",
        "print(data_std.shape)\n",
        "print(data_std)"
      ],
      "execution_count": 6,
      "outputs": [
        {
          "output_type": "stream",
          "name": "stdout",
          "text": [
            "(414, 8)\n",
            "[[-1.72787215 -0.82368321  1.25562833 ...  1.12542986  0.44876222\n",
            "  -0.00590088]\n",
            " [-1.71950473 -0.82368321  0.15708622 ...  0.91244418  0.40113894\n",
            "   0.3105072 ]\n",
            " [-1.71113731  1.54115111 -0.38779067 ...  1.48686011  0.68818339\n",
            "   0.6857819 ]\n",
            " ...\n",
            " [ 1.71113731  0.35873395  0.09556786 ...  0.82289338  0.42397202\n",
            "   0.19277396]\n",
            " [ 1.71950473 -0.52896662 -0.84478419 ... -0.18475479  0.4768143\n",
            "   1.06841493]\n",
            " [ 1.72787215  1.24643452 -0.98539758 ...  0.42757905  0.63534112\n",
            "   1.90726426]]\n"
          ]
        }
      ]
    },
    {
      "cell_type": "code",
      "metadata": {
        "colab": {
          "base_uri": "https://localhost:8080/"
        },
        "id": "Uxj7Y2saHhQu",
        "outputId": "bc647a15-6e7f-4c77-91c2-a771261daea3"
      },
      "source": [
        "data_covariance_matrix = np.cov(data_std.T)\n",
        "data_covariance_matrix"
      ],
      "execution_count": 7,
      "outputs": [
        {
          "output_type": "execute_result",
          "data": {
            "text/plain": [
              "array([[ 1.00242131, -0.04877576, -0.03288755, -0.01360636, -0.01272969,\n",
              "        -0.01013414, -0.01108605, -0.02865639],\n",
              "       [-0.04877576,  1.00242131,  0.01759126,  0.06102736,  0.00965877,\n",
              "         0.03514264, -0.04118125,  0.08770245],\n",
              "       [-0.03288755,  0.01759126,  1.00242131,  0.02568409,  0.04971259,\n",
              "         0.05455167, -0.04863754, -0.21107689],\n",
              "       [-0.01360636,  0.06102736,  0.02568409,  1.00242131, -0.60397803,\n",
              "        -0.59249773, -0.80826911, -0.67524388],\n",
              "       [-0.01272969,  0.00965877,  0.04971259, -0.60397803,  1.00242131,\n",
              "         0.44521871,  0.45018641,  0.57238749],\n",
              "       [-0.01013414,  0.03514264,  0.05455167, -0.59249773,  0.44521871,\n",
              "         1.00242131,  0.41392376,  0.54762943],\n",
              "       [-0.01108605, -0.04118125, -0.04863754, -0.80826911,  0.45018641,\n",
              "         0.41392376,  1.00242131,  0.52455354],\n",
              "       [-0.02865639,  0.08770245, -0.21107689, -0.67524388,  0.57238749,\n",
              "         0.54762943,  0.52455354,  1.00242131]])"
            ]
          },
          "metadata": {},
          "execution_count": 7
        }
      ]
    },
    {
      "cell_type": "code",
      "metadata": {
        "colab": {
          "base_uri": "https://localhost:8080/"
        },
        "id": "Zfd3fsrlH4Du",
        "outputId": "4a25de59-810c-4f32-81d1-faf5ea878d7e"
      },
      "source": [
        "eig_vals,eig_vecs = np.linalg.eig(data_covariance_matrix)\n",
        "print('Eigenvector \\n%s' %eig_vecs)\n",
        "print('\\nEigenvalues \\n%s' %eig_vals)\n"
      ],
      "execution_count": 8,
      "outputs": [
        {
          "output_type": "stream",
          "name": "stdout",
          "text": [
            "Eigenvector \n",
            "[[-0.00851954  0.52339392 -0.29615438 -0.79790866 -0.02647219 -0.02724784\n",
            "   0.01229477 -0.00511784]\n",
            " [ 0.00388686 -0.48983537  0.62425564 -0.55684554  0.05401816  0.09698767\n",
            "  -0.00597299 -0.21889242]\n",
            " [-0.0387418  -0.66223705 -0.65844973 -0.1777053  -0.03297262 -0.29424365\n",
            "   0.01369153 -0.08337843]\n",
            " [-0.5081568  -0.04612734  0.10188509 -0.03576992 -0.80604558 -0.01719344\n",
            "   0.08184322  0.26699339]\n",
            " [ 0.4153974  -0.11321609 -0.08120112 -0.04816796 -0.10391766  0.38025941\n",
            "   0.75850657  0.27383393]\n",
            " [ 0.40315882 -0.14932007 -0.06147855 -0.09859823 -0.14108034  0.31419585\n",
            "  -0.62710499  0.53831395]\n",
            " [ 0.44212884  0.07555561 -0.07778036  0.08914783 -0.53765534  0.13811464\n",
            "  -0.13175162 -0.67772333]\n",
            " [ 0.4578407   0.06790763  0.24947513 -0.020422   -0.1606511  -0.80036499\n",
            "   0.08352255  0.22303955]]\n",
            "\n",
            "Eigenvalues \n",
            "[3.27911372 1.09120704 1.05242939 0.95893155 0.14364538 0.3212673\n",
            " 0.55460782 0.61816826]\n"
          ]
        }
      ]
    },
    {
      "cell_type": "code",
      "metadata": {
        "colab": {
          "base_uri": "https://localhost:8080/"
        },
        "id": "aiAyfwS4I6ey",
        "outputId": "d34016fc-5496-4be3-c03e-779273b9656c"
      },
      "source": [
        "tot= sum(eig_vals)\n",
        "var_exp = [(i/tot)*100 for i in sorted(eig_vals,reverse=True)]\n",
        "cum_var_exp= np.cumsum(var_exp)\n",
        "print('varience captured by each component\\n ',var_exp)\n",
        "print(40 * '-')\n",
        "print('Cumulative variance captured as we travel each component \\n',cum_var_exp)"
      ],
      "execution_count": 9,
      "outputs": [
        {
          "output_type": "stream",
          "name": "stdout",
          "text": [
            "varience captured by each component\n",
            "  [40.88991445720896, 13.607140890452477, 13.123591095676682, 11.957691141914264, 7.708438765187794, 6.9158524007050275, 4.00614111801262, 1.7912301308421732]\n",
            "----------------------------------------\n",
            "Cumulative variance captured as we travel each component \n",
            " [ 40.88991446  54.49705535  67.62064644  79.57833759  87.28677635\n",
            "  94.20262875  98.20876987 100.        ]\n"
          ]
        }
      ]
    },
    {
      "cell_type": "markdown",
      "metadata": {
        "id": "J1OM7EDhMWli"
      },
      "source": [
        "#multicollinearity for Assignment"
      ]
    },
    {
      "cell_type": "code",
      "metadata": {
        "id": "8W8yiPQYMayh",
        "outputId": "1911e6f1-6798-416e-b3e2-d5df19b9dacd",
        "colab": {
          "base_uri": "https://localhost:8080/"
        }
      },
      "source": [
        "from statsmodels.stats.outliers_influence import variance_inflation_factor\n",
        "x_var = data[['x1', 'x2', 'x3', 'x4', 'x5', 'x6']]\n",
        "def calc_vif(X):\n",
        "\n",
        "    # Calculating VIF\n",
        "    vif = pd.DataFrame()\n",
        "    vif[\"variables\"] = x_var.columns\n",
        "    vif[\"VIF\"] = [variance_inflation_factor(x_var.values, i) for i in range(x_var.shape[1])]\n",
        "\n",
        "    return(vif)"
      ],
      "execution_count": 10,
      "outputs": [
        {
          "output_type": "stream",
          "name": "stderr",
          "text": [
            "/usr/local/lib/python3.7/dist-packages/statsmodels/tools/_testing.py:19: FutureWarning: pandas.util.testing is deprecated. Use the functions in the public API at pandas.testing instead.\n",
            "  import pandas.util.testing as tm\n"
          ]
        }
      ]
    },
    {
      "cell_type": "code",
      "metadata": {
        "id": "NorC0q3RX0pi"
      },
      "source": [
        "vif_data = pd.DataFrame()\n",
        "vif_data[\"feature\"] = x_var.columns\n",
        "vif_data[\"VIF\"] = [variance_inflation_factor(x_var.values, i) for i in range(x_var.shape[1])]"
      ],
      "execution_count": 11,
      "outputs": []
    },
    {
      "cell_type": "code",
      "metadata": {
        "colab": {
          "base_uri": "https://localhost:8080/",
          "height": 238
        },
        "id": "bYCVvdYhX45K",
        "outputId": "2c020fac-752e-4643-af46-f8199d4116ee"
      },
      "source": [
        "vif_data"
      ],
      "execution_count": 12,
      "outputs": [
        {
          "output_type": "execute_result",
          "data": {
            "text/html": [
              "<div>\n",
              "<style scoped>\n",
              "    .dataframe tbody tr th:only-of-type {\n",
              "        vertical-align: middle;\n",
              "    }\n",
              "\n",
              "    .dataframe tbody tr th {\n",
              "        vertical-align: top;\n",
              "    }\n",
              "\n",
              "    .dataframe thead th {\n",
              "        text-align: right;\n",
              "    }\n",
              "</style>\n",
              "<table border=\"1\" class=\"dataframe\">\n",
              "  <thead>\n",
              "    <tr style=\"text-align: right;\">\n",
              "      <th></th>\n",
              "      <th>feature</th>\n",
              "      <th>VIF</th>\n",
              "    </tr>\n",
              "  </thead>\n",
              "  <tbody>\n",
              "    <tr>\n",
              "      <th>0</th>\n",
              "      <td>x1</td>\n",
              "      <td>4.253389e+07</td>\n",
              "    </tr>\n",
              "    <tr>\n",
              "      <th>1</th>\n",
              "      <td>x2</td>\n",
              "      <td>3.471392e+00</td>\n",
              "    </tr>\n",
              "    <tr>\n",
              "      <th>2</th>\n",
              "      <td>x3</td>\n",
              "      <td>4.261358e+00</td>\n",
              "    </tr>\n",
              "    <tr>\n",
              "      <th>3</th>\n",
              "      <td>x4</td>\n",
              "      <td>4.748152e+00</td>\n",
              "    </tr>\n",
              "    <tr>\n",
              "      <th>4</th>\n",
              "      <td>x5</td>\n",
              "      <td>6.178301e+06</td>\n",
              "    </tr>\n",
              "    <tr>\n",
              "      <th>5</th>\n",
              "      <td>x6</td>\n",
              "      <td>4.198817e+07</td>\n",
              "    </tr>\n",
              "  </tbody>\n",
              "</table>\n",
              "</div>"
            ],
            "text/plain": [
              "  feature           VIF\n",
              "0      x1  4.253389e+07\n",
              "1      x2  3.471392e+00\n",
              "2      x3  4.261358e+00\n",
              "3      x4  4.748152e+00\n",
              "4      x5  6.178301e+06\n",
              "5      x6  4.198817e+07"
            ]
          },
          "metadata": {},
          "execution_count": 12
        }
      ]
    },
    {
      "cell_type": "markdown",
      "metadata": {
        "id": "hn1FBOiyTUH1"
      },
      "source": [
        "\n",
        "#Factor analysis for Assignment"
      ]
    },
    {
      "cell_type": "code",
      "metadata": {
        "colab": {
          "base_uri": "https://localhost:8080/"
        },
        "id": "fM3oxQkmTh3E",
        "outputId": "d7f7c84f-9fc0-4b96-84c6-12d8dab6bdef"
      },
      "source": [
        "from sklearn.datasets import load_iris\n",
        "!pip install factor_analyzer\n",
        "from factor_analyzer import FactorAnalyzer\n",
        "from factor_analyzer.factor_analyzer import calculate_bartlett_sphericity\n",
        "chi_square_value,p_value=calculate_bartlett_sphericity(data)\n",
        "chi_square_value, p_value"
      ],
      "execution_count": 13,
      "outputs": [
        {
          "output_type": "stream",
          "name": "stdout",
          "text": [
            "Collecting factor_analyzer\n",
            "  Downloading factor_analyzer-0.4.0.tar.gz (41 kB)\n",
            "\u001b[?25l\r\u001b[K     |███████▉                        | 10 kB 26.0 MB/s eta 0:00:01\r\u001b[K     |███████████████▊                | 20 kB 28.7 MB/s eta 0:00:01\r\u001b[K     |███████████████████████▋        | 30 kB 34.7 MB/s eta 0:00:01\r\u001b[K     |███████████████████████████████▌| 40 kB 38.7 MB/s eta 0:00:01\r\u001b[K     |████████████████████████████████| 41 kB 517 kB/s \n",
            "\u001b[?25hRequirement already satisfied: pandas in /usr/local/lib/python3.7/dist-packages (from factor_analyzer) (1.1.5)\n",
            "Requirement already satisfied: scipy in /usr/local/lib/python3.7/dist-packages (from factor_analyzer) (1.4.1)\n",
            "Requirement already satisfied: numpy in /usr/local/lib/python3.7/dist-packages (from factor_analyzer) (1.19.5)\n",
            "Requirement already satisfied: scikit-learn in /usr/local/lib/python3.7/dist-packages (from factor_analyzer) (1.0.1)\n",
            "Requirement already satisfied: python-dateutil>=2.7.3 in /usr/local/lib/python3.7/dist-packages (from pandas->factor_analyzer) (2.8.2)\n",
            "Requirement already satisfied: pytz>=2017.2 in /usr/local/lib/python3.7/dist-packages (from pandas->factor_analyzer) (2018.9)\n",
            "Requirement already satisfied: six>=1.5 in /usr/local/lib/python3.7/dist-packages (from python-dateutil>=2.7.3->pandas->factor_analyzer) (1.15.0)\n",
            "Requirement already satisfied: joblib>=0.11 in /usr/local/lib/python3.7/dist-packages (from scikit-learn->factor_analyzer) (1.1.0)\n",
            "Requirement already satisfied: threadpoolctl>=2.0.0 in /usr/local/lib/python3.7/dist-packages (from scikit-learn->factor_analyzer) (3.0.0)\n",
            "Building wheels for collected packages: factor-analyzer\n",
            "  Building wheel for factor-analyzer (setup.py) ... \u001b[?25l\u001b[?25hdone\n",
            "  Created wheel for factor-analyzer: filename=factor_analyzer-0.4.0-py3-none-any.whl size=41455 sha256=8af699c27ac2fc24c23a0db0ca2cb976370fb116e89e45f6e900046f594c6d0b\n",
            "  Stored in directory: /root/.cache/pip/wheels/ac/00/37/1f0e8a5039f9e9f207c4405bbce0796f07701eb377bfc6cc76\n",
            "Successfully built factor-analyzer\n",
            "Installing collected packages: factor-analyzer\n",
            "Successfully installed factor-analyzer-0.4.0\n"
          ]
        },
        {
          "output_type": "execute_result",
          "data": {
            "text/plain": [
              "(1187.9795369290373, 2.032175826657187e-232)"
            ]
          },
          "metadata": {},
          "execution_count": 13
        }
      ]
    },
    {
      "cell_type": "code",
      "metadata": {
        "id": "v6leRZpHo-DR"
      },
      "source": [
        "df=pd.read_csv(\"/content/Real estate.csv\")\n"
      ],
      "execution_count": 14,
      "outputs": []
    },
    {
      "cell_type": "code",
      "metadata": {
        "colab": {
          "base_uri": "https://localhost:8080/",
          "height": 0
        },
        "id": "pVn0UfkkmiXU",
        "outputId": "9196be32-2d5c-452f-8788-4d5125b2d395"
      },
      "source": [
        "df.columns=[\"No\",\"x1\",\"x2\",\"x3\",\"x4\",\"x5\",\"x6\",\"x7\"]\n",
        "df"
      ],
      "execution_count": 15,
      "outputs": [
        {
          "output_type": "execute_result",
          "data": {
            "text/html": [
              "<div>\n",
              "<style scoped>\n",
              "    .dataframe tbody tr th:only-of-type {\n",
              "        vertical-align: middle;\n",
              "    }\n",
              "\n",
              "    .dataframe tbody tr th {\n",
              "        vertical-align: top;\n",
              "    }\n",
              "\n",
              "    .dataframe thead th {\n",
              "        text-align: right;\n",
              "    }\n",
              "</style>\n",
              "<table border=\"1\" class=\"dataframe\">\n",
              "  <thead>\n",
              "    <tr style=\"text-align: right;\">\n",
              "      <th></th>\n",
              "      <th>No</th>\n",
              "      <th>x1</th>\n",
              "      <th>x2</th>\n",
              "      <th>x3</th>\n",
              "      <th>x4</th>\n",
              "      <th>x5</th>\n",
              "      <th>x6</th>\n",
              "      <th>x7</th>\n",
              "    </tr>\n",
              "  </thead>\n",
              "  <tbody>\n",
              "    <tr>\n",
              "      <th>0</th>\n",
              "      <td>1</td>\n",
              "      <td>2012.917</td>\n",
              "      <td>32.0</td>\n",
              "      <td>84.87882</td>\n",
              "      <td>10</td>\n",
              "      <td>24.98298</td>\n",
              "      <td>121.54024</td>\n",
              "      <td>37.9</td>\n",
              "    </tr>\n",
              "    <tr>\n",
              "      <th>1</th>\n",
              "      <td>2</td>\n",
              "      <td>2012.917</td>\n",
              "      <td>19.5</td>\n",
              "      <td>306.59470</td>\n",
              "      <td>9</td>\n",
              "      <td>24.98034</td>\n",
              "      <td>121.53951</td>\n",
              "      <td>42.2</td>\n",
              "    </tr>\n",
              "    <tr>\n",
              "      <th>2</th>\n",
              "      <td>3</td>\n",
              "      <td>2013.583</td>\n",
              "      <td>13.3</td>\n",
              "      <td>561.98450</td>\n",
              "      <td>5</td>\n",
              "      <td>24.98746</td>\n",
              "      <td>121.54391</td>\n",
              "      <td>47.3</td>\n",
              "    </tr>\n",
              "    <tr>\n",
              "      <th>3</th>\n",
              "      <td>4</td>\n",
              "      <td>2013.500</td>\n",
              "      <td>13.3</td>\n",
              "      <td>561.98450</td>\n",
              "      <td>5</td>\n",
              "      <td>24.98746</td>\n",
              "      <td>121.54391</td>\n",
              "      <td>54.8</td>\n",
              "    </tr>\n",
              "    <tr>\n",
              "      <th>4</th>\n",
              "      <td>5</td>\n",
              "      <td>2012.833</td>\n",
              "      <td>5.0</td>\n",
              "      <td>390.56840</td>\n",
              "      <td>5</td>\n",
              "      <td>24.97937</td>\n",
              "      <td>121.54245</td>\n",
              "      <td>43.1</td>\n",
              "    </tr>\n",
              "    <tr>\n",
              "      <th>...</th>\n",
              "      <td>...</td>\n",
              "      <td>...</td>\n",
              "      <td>...</td>\n",
              "      <td>...</td>\n",
              "      <td>...</td>\n",
              "      <td>...</td>\n",
              "      <td>...</td>\n",
              "      <td>...</td>\n",
              "    </tr>\n",
              "    <tr>\n",
              "      <th>409</th>\n",
              "      <td>410</td>\n",
              "      <td>2013.000</td>\n",
              "      <td>13.7</td>\n",
              "      <td>4082.01500</td>\n",
              "      <td>0</td>\n",
              "      <td>24.94155</td>\n",
              "      <td>121.50381</td>\n",
              "      <td>15.4</td>\n",
              "    </tr>\n",
              "    <tr>\n",
              "      <th>410</th>\n",
              "      <td>411</td>\n",
              "      <td>2012.667</td>\n",
              "      <td>5.6</td>\n",
              "      <td>90.45606</td>\n",
              "      <td>9</td>\n",
              "      <td>24.97433</td>\n",
              "      <td>121.54310</td>\n",
              "      <td>50.0</td>\n",
              "    </tr>\n",
              "    <tr>\n",
              "      <th>411</th>\n",
              "      <td>412</td>\n",
              "      <td>2013.250</td>\n",
              "      <td>18.8</td>\n",
              "      <td>390.96960</td>\n",
              "      <td>7</td>\n",
              "      <td>24.97923</td>\n",
              "      <td>121.53986</td>\n",
              "      <td>40.6</td>\n",
              "    </tr>\n",
              "    <tr>\n",
              "      <th>412</th>\n",
              "      <td>413</td>\n",
              "      <td>2013.000</td>\n",
              "      <td>8.1</td>\n",
              "      <td>104.81010</td>\n",
              "      <td>5</td>\n",
              "      <td>24.96674</td>\n",
              "      <td>121.54067</td>\n",
              "      <td>52.5</td>\n",
              "    </tr>\n",
              "    <tr>\n",
              "      <th>413</th>\n",
              "      <td>414</td>\n",
              "      <td>2013.500</td>\n",
              "      <td>6.5</td>\n",
              "      <td>90.45606</td>\n",
              "      <td>9</td>\n",
              "      <td>24.97433</td>\n",
              "      <td>121.54310</td>\n",
              "      <td>63.9</td>\n",
              "    </tr>\n",
              "  </tbody>\n",
              "</table>\n",
              "<p>414 rows × 8 columns</p>\n",
              "</div>"
            ],
            "text/plain": [
              "      No        x1    x2          x3  x4        x5         x6    x7\n",
              "0      1  2012.917  32.0    84.87882  10  24.98298  121.54024  37.9\n",
              "1      2  2012.917  19.5   306.59470   9  24.98034  121.53951  42.2\n",
              "2      3  2013.583  13.3   561.98450   5  24.98746  121.54391  47.3\n",
              "3      4  2013.500  13.3   561.98450   5  24.98746  121.54391  54.8\n",
              "4      5  2012.833   5.0   390.56840   5  24.97937  121.54245  43.1\n",
              "..   ...       ...   ...         ...  ..       ...        ...   ...\n",
              "409  410  2013.000  13.7  4082.01500   0  24.94155  121.50381  15.4\n",
              "410  411  2012.667   5.6    90.45606   9  24.97433  121.54310  50.0\n",
              "411  412  2013.250  18.8   390.96960   7  24.97923  121.53986  40.6\n",
              "412  413  2013.000   8.1   104.81010   5  24.96674  121.54067  52.5\n",
              "413  414  2013.500   6.5    90.45606   9  24.97433  121.54310  63.9\n",
              "\n",
              "[414 rows x 8 columns]"
            ]
          },
          "metadata": {},
          "execution_count": 15
        }
      ]
    },
    {
      "cell_type": "code",
      "metadata": {
        "colab": {
          "base_uri": "https://localhost:8080/"
        },
        "id": "mTHFKzAF0IC5",
        "outputId": "ca989f59-f36a-4bbb-bfa5-73c98d9bce7b"
      },
      "source": [
        "# Adequacy test \n",
        "# tp check whether or not the observed variables intercorrelate at all using the observed correlation matrix against the identity matrix.\n",
        "from factor_analyzer.factor_analyzer import calculate_bartlett_sphericity\n",
        "chi_square_value,p_value=calculate_bartlett_sphericity(df)\n",
        "chi_square_value, p_value"
      ],
      "execution_count": 16,
      "outputs": [
        {
          "output_type": "execute_result",
          "data": {
            "text/plain": [
              "(1187.9795369290373, 2.032175826657187e-232)"
            ]
          },
          "metadata": {},
          "execution_count": 16
        }
      ]
    },
    {
      "cell_type": "code",
      "metadata": {
        "id": "xnJ5xArF-GKQ"
      },
      "source": [
        "#(KMO) Test \n",
        "from factor_analyzer.factor_analyzer import calculate_kmo\n",
        "kmo_all,kmo_model=calculate_kmo(df)"
      ],
      "execution_count": 17,
      "outputs": []
    },
    {
      "cell_type": "code",
      "metadata": {
        "colab": {
          "base_uri": "https://localhost:8080/"
        },
        "id": "zsd_OVidBTjt",
        "outputId": "2693035c-afac-43bb-9968-4d3a4b7801f5"
      },
      "source": [
        "kmo_model"
      ],
      "execution_count": 18,
      "outputs": [
        {
          "output_type": "execute_result",
          "data": {
            "text/plain": [
              "0.7499814174010048"
            ]
          },
          "metadata": {},
          "execution_count": 18
        }
      ]
    },
    {
      "cell_type": "code",
      "metadata": {
        "colab": {
          "base_uri": "https://localhost:8080/"
        },
        "id": "OrNWst7sB5He",
        "outputId": "7ccef2f6-8a85-4290-9d6d-a0a16cf14860"
      },
      "source": [
        "# Create factor analysis object and perform factor analysis\n",
        "fa = FactorAnalyzer()\n",
        "fa.fit(df)\n",
        "eigen_values, vectors = fa.get_eigenvalues()\n",
        "# Check Eigenvalues\n",
        "eigen_values\n"
      ],
      "execution_count": 19,
      "outputs": [
        {
          "output_type": "execute_result",
          "data": {
            "text/plain": [
              "array([3.27119316, 1.08857127, 1.04988729, 0.95661529, 0.6166751 ,\n",
              "       0.55326819, 0.32049129, 0.14329841])"
            ]
          },
          "metadata": {},
          "execution_count": 19
        }
      ]
    },
    {
      "cell_type": "code",
      "metadata": {
        "colab": {
          "base_uri": "https://localhost:8080/",
          "height": 0
        },
        "id": "6e0iffiUGetj",
        "outputId": "4d4a5ab9-abbb-471e-8199-8f430e0dffb3"
      },
      "source": [
        "# Create scree plot using matplotlib\n",
        "plt.scatter(range(1,df.shape[1]+1),eigen_values)\n",
        "plt.plot(range(1,df.shape[1]+1),eigen_values)\n",
        "plt.title('Scree Plot')\n",
        "plt.xlabel('Factors')\n",
        "plt.ylabel('Eigenvalue')\n",
        "plt.grid()\n",
        "plt.show()"
      ],
      "execution_count": 20,
      "outputs": [
        {
          "output_type": "display_data",
          "data": {
            "image/png": "[encoded data removed]",
            "text/plain": [
              "<Figure size 432x288 with 1 Axes>"
            ]
          },
          "metadata": {
            "needs_background": "light"
          }
        }
      ]
    },
    {
      "cell_type": "code",
      "metadata": {
        "colab": {
          "base_uri": "https://localhost:8080/"
        },
        "id": "-nFu960gHCYU",
        "outputId": "efdb8476-b5f0-467d-b7df-800609b03f75"
      },
      "source": [
        "# Create factor analysis object and perform factor analysis\n",
        "fa = FactorAnalyzer()\n",
        "fa.fit(df, 6)\n",
        "loadings =fa.loadings_\n",
        "loadings"
      ],
      "execution_count": 21,
      "outputs": [
        {
          "output_type": "execute_result",
          "data": {
            "text/plain": [
              "array([[-0.00527747, -0.02871327, -0.07672082],\n",
              "       [-0.03165505, -0.02226548,  0.20933795],\n",
              "       [ 0.05262909,  0.61180872,  0.07312338],\n",
              "       [-1.01668099, -0.05516896,  0.30374497],\n",
              "       [ 0.65080232,  0.06637093,  0.11114112],\n",
              "       [ 0.62587596,  0.07815054,  0.12901554],\n",
              "       [ 0.78671059, -0.00245464, -0.29017688],\n",
              "       [ 0.71635491, -0.42068839,  0.40770687]])"
            ]
          },
          "metadata": {},
          "execution_count": 21
        }
      ]
    },
    {
      "cell_type": "code",
      "metadata": {
        "colab": {
          "base_uri": "https://localhost:8080/"
        },
        "id": "GLQDcgwLbpdk",
        "outputId": "a1ac13c5-e91c-4a91-b160-171fdb64e6b4"
      },
      "source": [
        "# Get variance of each factors\n",
        "fa.get_factor_variance()"
      ],
      "execution_count": 22,
      "outputs": [
        {
          "output_type": "execute_result",
          "data": {
            "text/plain": [
              "(array([2.98478223, 0.56617108, 0.42674137]),\n",
              " array([0.37309778, 0.07077139, 0.05334267]),\n",
              " array([0.37309778, 0.44386916, 0.49721183]))"
            ]
          },
          "metadata": {},
          "execution_count": 22
        }
      ]
    },
    {
      "cell_type": "markdown",
      "metadata": {
        "id": "Z4hHDKmabPF_"
      },
      "source": [
        "#pca"
      ]
    },
    {
      "cell_type": "code",
      "metadata": {
        "id": "Z-BWZyY8bQ7N"
      },
      "source": [
        "import pandas as pd\n",
        "from sklearn.model_selection import train_test_split"
      ],
      "execution_count": 23,
      "outputs": []
    },
    {
      "cell_type": "code",
      "metadata": {
        "colab": {
          "base_uri": "https://localhost:8080/"
        },
        "id": "xbuuDGGAdS3Y",
        "outputId": "5ef53372-6f29-47fe-ae54-851a75408e15"
      },
      "source": [
        "print(data.columns)\n",
        "data.columns=[\"No\",\"x1\",\"x2\",\"x3\",\"x4\",\"x5\",\"x6\",\"x7\"]\n"
      ],
      "execution_count": 24,
      "outputs": [
        {
          "output_type": "stream",
          "name": "stdout",
          "text": [
            "Index(['No', 'x1', 'x2', 'x3', 'x4', 'x5', 'x6', 'x7'], dtype='object')\n"
          ]
        }
      ]
    },
    {
      "cell_type": "code",
      "metadata": {
        "id": "ccfehEktcs_h"
      },
      "source": [
        "\n",
        "# x= data[['x1','x2','x3','x4','x5','x6']]\n",
        "# y =data['x7']\n",
        "parameters = ['x1', 'x2', 'x3', 'x4', 'x5', 'x6']\n",
        "x = data.loc[:, parameters].values\n",
        "y = data.loc[:, ['x7']].values\n",
        "from sklearn.preprocessing import StandardScaler\n",
        "x_scaled = StandardScaler().fit_transform(x)\n",
        "# scaler= StandardScaler()\n",
        "# x_scaled=scaler.fit_transform(x)\n",
        "# x_scaled\n",
        "\n"
      ],
      "execution_count": 25,
      "outputs": []
    },
    {
      "cell_type": "code",
      "metadata": {
        "id": "MiTIX_pFhxTb"
      },
      "source": [
        "from sklearn.model_selection import train_test_split\n",
        "x_train,x_test,y_train,y_test = train_test_split(x_scaled,y,test_size=0.2,random_state=30)"
      ],
      "execution_count": 26,
      "outputs": []
    },
    {
      "cell_type": "code",
      "metadata": {
        "colab": {
          "base_uri": "https://localhost:8080/"
        },
        "id": "zLovRO-NjQaU",
        "outputId": "03007700-15fd-4c33-96bb-c0b7ed63f244"
      },
      "source": [
        "from sklearn.linear_model import LinearRegression\n",
        "model=LinearRegression()\n",
        "# clf = LogisticRegression()\n",
        "# clf.fit(x_train, y_train)\n",
        "model.fit(x_train,y_train)\n",
        "model.score(x_test,y_test)"
      ],
      "execution_count": 27,
      "outputs": [
        {
          "output_type": "execute_result",
          "data": {
            "text/plain": [
              "0.4755655257750959"
            ]
          },
          "metadata": {},
          "execution_count": 27
        }
      ]
    },
    {
      "cell_type": "code",
      "metadata": {
        "colab": {
          "base_uri": "https://localhost:8080/",
          "height": 0
        },
        "id": "bcuzmELjmpfu",
        "outputId": "863ce6d6-99b9-42ad-f702-b2e3fde6dd0d"
      },
      "source": [
        "from sklearn.decomposition import PCA\n",
        "\n",
        "pca = PCA(n_components=5)\n",
        "# pca = PCA(0.45)\n",
        "x_pca = pca.fit_transform(x)\n",
        "DF = pd.DataFrame(data = x_pca, columns=[\"PC 1\",\"PC 2\",\"PC 3\",\"PC 4\",\"PC 5\"])\n",
        "DF\n",
        "# x_pca.shape\n"
      ],
      "execution_count": 28,
      "outputs": [
        {
          "output_type": "execute_result",
          "data": {
            "text/html": [
              "<div>\n",
              "<style scoped>\n",
              "    .dataframe tbody tr th:only-of-type {\n",
              "        vertical-align: middle;\n",
              "    }\n",
              "\n",
              "    .dataframe tbody tr th {\n",
              "        vertical-align: top;\n",
              "    }\n",
              "\n",
              "    .dataframe thead th {\n",
              "        text-align: right;\n",
              "    }\n",
              "</style>\n",
              "<table border=\"1\" class=\"dataframe\">\n",
              "  <thead>\n",
              "    <tr style=\"text-align: right;\">\n",
              "      <th></th>\n",
              "      <th>PC 1</th>\n",
              "      <th>PC 2</th>\n",
              "      <th>PC 3</th>\n",
              "      <th>PC 4</th>\n",
              "      <th>PC 5</th>\n",
              "    </tr>\n",
              "  </thead>\n",
              "  <tbody>\n",
              "    <tr>\n",
              "      <th>0</th>\n",
              "      <td>-999.010858</td>\n",
              "      <td>14.595241</td>\n",
              "      <td>-4.243625</td>\n",
              "      <td>0.253698</td>\n",
              "      <td>0.005245</td>\n",
              "    </tr>\n",
              "    <tr>\n",
              "      <th>1</th>\n",
              "      <td>-777.296688</td>\n",
              "      <td>2.033806</td>\n",
              "      <td>-3.776002</td>\n",
              "      <td>0.248426</td>\n",
              "      <td>0.004728</td>\n",
              "    </tr>\n",
              "    <tr>\n",
              "      <th>2</th>\n",
              "      <td>-521.902948</td>\n",
              "      <td>-4.287987</td>\n",
              "      <td>-0.250344</td>\n",
              "      <td>-0.441166</td>\n",
              "      <td>0.010365</td>\n",
              "    </tr>\n",
              "    <tr>\n",
              "      <th>3</th>\n",
              "      <td>-521.902949</td>\n",
              "      <td>-4.288020</td>\n",
              "      <td>-0.249768</td>\n",
              "      <td>-0.358168</td>\n",
              "      <td>0.010551</td>\n",
              "    </tr>\n",
              "    <tr>\n",
              "      <th>4</th>\n",
              "      <td>-693.320803</td>\n",
              "      <td>-12.551598</td>\n",
              "      <td>-0.149267</td>\n",
              "      <td>0.302526</td>\n",
              "      <td>0.006188</td>\n",
              "    </tr>\n",
              "    <tr>\n",
              "      <th>...</th>\n",
              "      <td>...</td>\n",
              "      <td>...</td>\n",
              "      <td>...</td>\n",
              "      <td>...</td>\n",
              "      <td>...</td>\n",
              "    </tr>\n",
              "    <tr>\n",
              "      <th>409</th>\n",
              "      <td>2998.131094</td>\n",
              "      <td>-4.703226</td>\n",
              "      <td>-0.203060</td>\n",
              "      <td>0.189303</td>\n",
              "      <td>-0.008149</td>\n",
              "    </tr>\n",
              "    <tr>\n",
              "      <th>410</th>\n",
              "      <td>-993.438327</td>\n",
              "      <td>-11.819502</td>\n",
              "      <td>-3.713722</td>\n",
              "      <td>0.489517</td>\n",
              "      <td>-0.000640</td>\n",
              "    </tr>\n",
              "    <tr>\n",
              "      <th>411</th>\n",
              "      <td>-692.919219</td>\n",
              "      <td>1.281487</td>\n",
              "      <td>-1.909931</td>\n",
              "      <td>-0.096694</td>\n",
              "      <td>0.004092</td>\n",
              "    </tr>\n",
              "    <tr>\n",
              "      <th>412</th>\n",
              "      <td>-979.078094</td>\n",
              "      <td>-9.392983</td>\n",
              "      <td>0.306933</td>\n",
              "      <td>0.129779</td>\n",
              "      <td>-0.004737</td>\n",
              "    </tr>\n",
              "    <tr>\n",
              "      <th>413</th>\n",
              "      <td>-993.438107</td>\n",
              "      <td>-10.919307</td>\n",
              "      <td>-3.703695</td>\n",
              "      <td>-0.343208</td>\n",
              "      <td>-0.002572</td>\n",
              "    </tr>\n",
              "  </tbody>\n",
              "</table>\n",
              "<p>414 rows × 5 columns</p>\n",
              "</div>"
            ],
            "text/plain": [
              "            PC 1       PC 2      PC 3      PC 4      PC 5\n",
              "0    -999.010858  14.595241 -4.243625  0.253698  0.005245\n",
              "1    -777.296688   2.033806 -3.776002  0.248426  0.004728\n",
              "2    -521.902948  -4.287987 -0.250344 -0.441166  0.010365\n",
              "3    -521.902949  -4.288020 -0.249768 -0.358168  0.010551\n",
              "4    -693.320803 -12.551598 -0.149267  0.302526  0.006188\n",
              "..           ...        ...       ...       ...       ...\n",
              "409  2998.131094  -4.703226 -0.203060  0.189303 -0.008149\n",
              "410  -993.438327 -11.819502 -3.713722  0.489517 -0.000640\n",
              "411  -692.919219   1.281487 -1.909931 -0.096694  0.004092\n",
              "412  -979.078094  -9.392983  0.306933  0.129779 -0.004737\n",
              "413  -993.438107 -10.919307 -3.703695 -0.343208 -0.002572\n",
              "\n",
              "[414 rows x 5 columns]"
            ]
          },
          "metadata": {},
          "execution_count": 28
        }
      ]
    },
    {
      "cell_type": "code",
      "metadata": {
        "colab": {
          "base_uri": "https://localhost:8080/"
        },
        "id": "602aolj2oOz5",
        "outputId": "ec88dc81-6628-4f2e-aee9-79fbee838111"
      },
      "source": [
        "pca.explained_variance_ratio_"
      ],
      "execution_count": 29,
      "outputs": [
        {
          "output_type": "execute_result",
          "data": {
            "text/plain": [
              "array([9.99915063e-01, 8.14419547e-05, 3.44524843e-06, 4.95460729e-08,\n",
              "       6.45733488e-11])"
            ]
          },
          "metadata": {},
          "execution_count": 29
        }
      ]
    },
    {
      "cell_type": "code",
      "metadata": {
        "id": "cEsKhKQPox3S"
      },
      "source": [
        "x_train_pca,x_test_pca , y_train,y_test = train_test_split(x_pca,y,test_size=0.2,random_state=30)"
      ],
      "execution_count": 30,
      "outputs": []
    },
    {
      "cell_type": "code",
      "metadata": {
        "colab": {
          "base_uri": "https://localhost:8080/"
        },
        "id": "-zlNh5egpo7B",
        "outputId": "3cba6d2c-e5f4-404e-bf3a-e9d32fb1ff40"
      },
      "source": [
        "model = LinearRegression()\n",
        "model.fit(x_train_pca,y_train)\n",
        "model.score(x_test_pca,y_test)"
      ],
      "execution_count": 31,
      "outputs": [
        {
          "output_type": "execute_result",
          "data": {
            "text/plain": [
              "0.47611406359489394"
            ]
          },
          "metadata": {},
          "execution_count": 31
        }
      ]
    },
    {
      "cell_type": "code",
      "metadata": {
        "id": "eWnLBMabqKuK",
        "colab": {
          "base_uri": "https://localhost:8080/"
        },
        "outputId": "8d63a52b-250a-4fa0-dfd7-92b0f97b2a01"
      },
      "source": [
        "x_pca"
      ],
      "execution_count": 32,
      "outputs": [
        {
          "output_type": "execute_result",
          "data": {
            "text/plain": [
              "array([[-9.99010858e+02,  1.45952410e+01, -4.24362489e+00,\n",
              "         2.53698126e-01,  5.24451723e-03],\n",
              "       [-7.77296688e+02,  2.03380640e+00, -3.77600177e+00,\n",
              "         2.48426073e-01,  4.72750259e-03],\n",
              "       [-5.21902948e+02, -4.28798674e+00, -2.50344360e-01,\n",
              "        -4.41166046e-01,  1.03653717e-02],\n",
              "       ...,\n",
              "       [-6.92919219e+02,  1.28148734e+00, -1.90993069e+00,\n",
              "        -9.66939224e-02,  4.09208515e-03],\n",
              "       [-9.79078094e+02, -9.39298345e+00,  3.06932871e-01,\n",
              "         1.29778581e-01, -4.73746840e-03],\n",
              "       [-9.93438107e+02, -1.09193066e+01, -3.70369490e+00,\n",
              "        -3.43208045e-01, -2.57150997e-03]])"
            ]
          },
          "metadata": {},
          "execution_count": 32
        }
      ]
    },
    {
      "cell_type": "markdown",
      "metadata": {
        "id": "L51L71hWitF3"
      },
      "source": [
        "# LDA Dimension reduction for LAB File"
      ]
    },
    {
      "cell_type": "code",
      "metadata": {
        "id": "jTnFsKIJjafA"
      },
      "source": [
        "import numpy as np\n",
        "import pandas as pd"
      ],
      "execution_count": 33,
      "outputs": []
    },
    {
      "cell_type": "code",
      "metadata": {
        "id": "KtQqBnBykP4i"
      },
      "source": [
        "url = \"https://archive.ics.uci.edu/ml/machine-learning-databases/iris/iris.data\"\n",
        "names = ['sepal-length', 'sepal-width', 'petal-length', 'petal-width', 'Class']\n",
        "dataset = pd.read_csv(url, names=names)"
      ],
      "execution_count": 34,
      "outputs": []
    },
    {
      "cell_type": "code",
      "metadata": {
        "id": "3rqPttIrkP61"
      },
      "source": [
        "X = dataset.iloc[:, 0:4].values\n",
        "y = dataset.iloc[:, 4].values"
      ],
      "execution_count": 35,
      "outputs": []
    },
    {
      "cell_type": "code",
      "metadata": {
        "id": "rr4t16g-kl4q"
      },
      "source": [
        "#feature scaling\n",
        "from sklearn.model_selection import train_test_split\n",
        "\n",
        "X_train, X_test, y_train, y_test = train_test_split(X, y, test_size=0.2, random_state=0)"
      ],
      "execution_count": 36,
      "outputs": []
    },
    {
      "cell_type": "code",
      "metadata": {
        "id": "cONbR-u6kl6V"
      },
      "source": [
        "from sklearn.preprocessing import StandardScaler\n",
        "from sklearn.discriminant_analysis import LinearDiscriminantAnalysis as LDA\n",
        "from sklearn.ensemble import RandomForestClassifier\n",
        "\n",
        "sc = StandardScaler()\n",
        "X_train = sc.fit_transform(X_train)\n",
        "X_test = sc.transform(X_test)\n",
        "\n",
        "lda = LDA(n_components=1)\n",
        "X_train = lda.fit_transform(X_train, y_train)\n",
        "X_test = lda.transform(X_test)\n",
        "\n",
        "classifier = RandomForestClassifier(max_depth=2, random_state=0)\n",
        "\n",
        "classifier.fit(X_train, y_train)\n",
        "y_pred = classifier.predict(X_test)"
      ],
      "execution_count": 37,
      "outputs": []
    },
    {
      "cell_type": "code",
      "metadata": {
        "colab": {
          "base_uri": "https://localhost:8080/"
        },
        "id": "0SawxCllkmCC",
        "outputId": "b39d3078-9b20-47fb-b1f2-545b9909b9b2"
      },
      "source": [
        "from sklearn.metrics import confusion_matrix\n",
        "from sklearn.metrics import accuracy_score\n",
        "\n",
        "cm = confusion_matrix(y_test, y_pred)\n",
        "print(cm)\n",
        "print('Accuracy' + str(accuracy_score(y_test, y_pred)))"
      ],
      "execution_count": 38,
      "outputs": [
        {
          "output_type": "stream",
          "name": "stdout",
          "text": [
            "[[11  0  0]\n",
            " [ 0 13  0]\n",
            " [ 0  0  6]]\n",
            "Accuracy1.0\n"
          ]
        }
      ]
    },
    {
      "cell_type": "code",
      "metadata": {
        "id": "TwcQe_cdbYXp"
      },
      "source": [
        ""
      ],
      "execution_count": 38,
      "outputs": []
    },
    {
      "cell_type": "markdown",
      "metadata": {
        "id": "4GgrLU1cv6aA"
      },
      "source": [
        "#K means clustering"
      ]
    },
    {
      "cell_type": "code",
      "metadata": {
        "id": "p3E5I2Vzza0j"
      },
      "source": [
        "import numpy as np\n",
        "import pandas as pd\n",
        "import statsmodels.api as sm\n",
        "import matplotlib.pyplot as plt\n",
        "import seaborn as sns\n",
        "sns.set()\n",
        "from sklearn.cluster import KMeans"
      ],
      "execution_count": 39,
      "outputs": []
    },
    {
      "cell_type": "code",
      "metadata": {
        "id": "BCKv-1Kzzq2d"
      },
      "source": [
        "data=pd.read_csv(\"/content/Real estate.csv\")"
      ],
      "execution_count": 40,
      "outputs": []
    },
    {
      "cell_type": "code",
      "metadata": {
        "colab": {
          "base_uri": "https://localhost:8080/",
          "height": 458
        },
        "id": "SNLPj7dzz8HT",
        "outputId": "71d7c3e5-0fb1-4f97-8fa1-d689c9309261"
      },
      "source": [
        "x = data.iloc[:,1:7] # 1t for rows and second for columns\n",
        "x"
      ],
      "execution_count": 41,
      "outputs": [
        {
          "output_type": "execute_result",
          "data": {
            "text/html": [
              "<div>\n",
              "<style scoped>\n",
              "    .dataframe tbody tr th:only-of-type {\n",
              "        vertical-align: middle;\n",
              "    }\n",
              "\n",
              "    .dataframe tbody tr th {\n",
              "        vertical-align: top;\n",
              "    }\n",
              "\n",
              "    .dataframe thead th {\n",
              "        text-align: right;\n",
              "    }\n",
              "</style>\n",
              "<table border=\"1\" class=\"dataframe\">\n",
              "  <thead>\n",
              "    <tr style=\"text-align: right;\">\n",
              "      <th></th>\n",
              "      <th>X1 transaction date</th>\n",
              "      <th>X2 house age</th>\n",
              "      <th>X3 distance to the nearest MRT station</th>\n",
              "      <th>X4 number of convenience stores</th>\n",
              "      <th>X5 latitude</th>\n",
              "      <th>X6 longitude</th>\n",
              "    </tr>\n",
              "  </thead>\n",
              "  <tbody>\n",
              "    <tr>\n",
              "      <th>0</th>\n",
              "      <td>2012.917</td>\n",
              "      <td>32.0</td>\n",
              "      <td>84.87882</td>\n",
              "      <td>10</td>\n",
              "      <td>24.98298</td>\n",
              "      <td>121.54024</td>\n",
              "    </tr>\n",
              "    <tr>\n",
              "      <th>1</th>\n",
              "      <td>2012.917</td>\n",
              "      <td>19.5</td>\n",
              "      <td>306.59470</td>\n",
              "      <td>9</td>\n",
              "      <td>24.98034</td>\n",
              "      <td>121.53951</td>\n",
              "    </tr>\n",
              "    <tr>\n",
              "      <th>2</th>\n",
              "      <td>2013.583</td>\n",
              "      <td>13.3</td>\n",
              "      <td>561.98450</td>\n",
              "      <td>5</td>\n",
              "      <td>24.98746</td>\n",
              "      <td>121.54391</td>\n",
              "    </tr>\n",
              "    <tr>\n",
              "      <th>3</th>\n",
              "      <td>2013.500</td>\n",
              "      <td>13.3</td>\n",
              "      <td>561.98450</td>\n",
              "      <td>5</td>\n",
              "      <td>24.98746</td>\n",
              "      <td>121.54391</td>\n",
              "    </tr>\n",
              "    <tr>\n",
              "      <th>4</th>\n",
              "      <td>2012.833</td>\n",
              "      <td>5.0</td>\n",
              "      <td>390.56840</td>\n",
              "      <td>5</td>\n",
              "      <td>24.97937</td>\n",
              "      <td>121.54245</td>\n",
              "    </tr>\n",
              "    <tr>\n",
              "      <th>...</th>\n",
              "      <td>...</td>\n",
              "      <td>...</td>\n",
              "      <td>...</td>\n",
              "      <td>...</td>\n",
              "      <td>...</td>\n",
              "      <td>...</td>\n",
              "    </tr>\n",
              "    <tr>\n",
              "      <th>409</th>\n",
              "      <td>2013.000</td>\n",
              "      <td>13.7</td>\n",
              "      <td>4082.01500</td>\n",
              "      <td>0</td>\n",
              "      <td>24.94155</td>\n",
              "      <td>121.50381</td>\n",
              "    </tr>\n",
              "    <tr>\n",
              "      <th>410</th>\n",
              "      <td>2012.667</td>\n",
              "      <td>5.6</td>\n",
              "      <td>90.45606</td>\n",
              "      <td>9</td>\n",
              "      <td>24.97433</td>\n",
              "      <td>121.54310</td>\n",
              "    </tr>\n",
              "    <tr>\n",
              "      <th>411</th>\n",
              "      <td>2013.250</td>\n",
              "      <td>18.8</td>\n",
              "      <td>390.96960</td>\n",
              "      <td>7</td>\n",
              "      <td>24.97923</td>\n",
              "      <td>121.53986</td>\n",
              "    </tr>\n",
              "    <tr>\n",
              "      <th>412</th>\n",
              "      <td>2013.000</td>\n",
              "      <td>8.1</td>\n",
              "      <td>104.81010</td>\n",
              "      <td>5</td>\n",
              "      <td>24.96674</td>\n",
              "      <td>121.54067</td>\n",
              "    </tr>\n",
              "    <tr>\n",
              "      <th>413</th>\n",
              "      <td>2013.500</td>\n",
              "      <td>6.5</td>\n",
              "      <td>90.45606</td>\n",
              "      <td>9</td>\n",
              "      <td>24.97433</td>\n",
              "      <td>121.54310</td>\n",
              "    </tr>\n",
              "  </tbody>\n",
              "</table>\n",
              "<p>414 rows × 6 columns</p>\n",
              "</div>"
            ],
            "text/plain": [
              "     X1 transaction date  X2 house age  ...  X5 latitude  X6 longitude\n",
              "0               2012.917          32.0  ...     24.98298     121.54024\n",
              "1               2012.917          19.5  ...     24.98034     121.53951\n",
              "2               2013.583          13.3  ...     24.98746     121.54391\n",
              "3               2013.500          13.3  ...     24.98746     121.54391\n",
              "4               2012.833           5.0  ...     24.97937     121.54245\n",
              "..                   ...           ...  ...          ...           ...\n",
              "409             2013.000          13.7  ...     24.94155     121.50381\n",
              "410             2012.667           5.6  ...     24.97433     121.54310\n",
              "411             2013.250          18.8  ...     24.97923     121.53986\n",
              "412             2013.000           8.1  ...     24.96674     121.54067\n",
              "413             2013.500           6.5  ...     24.97433     121.54310\n",
              "\n",
              "[414 rows x 6 columns]"
            ]
          },
          "metadata": {},
          "execution_count": 41
        }
      ]
    },
    {
      "cell_type": "code",
      "metadata": {
        "colab": {
          "base_uri": "https://localhost:8080/"
        },
        "id": "6obuUzTK1QWx",
        "outputId": "7f615911-4396-48f2-bc91-dab953f44b46"
      },
      "source": [
        "#clustering\n",
        "kmeans = KMeans(7)\n",
        "kmeans.fit(x)"
      ],
      "execution_count": 42,
      "outputs": [
        {
          "output_type": "execute_result",
          "data": {
            "text/plain": [
              "KMeans(n_clusters=7)"
            ]
          },
          "metadata": {},
          "execution_count": 42
        }
      ]
    },
    {
      "cell_type": "code",
      "metadata": {
        "colab": {
          "base_uri": "https://localhost:8080/"
        },
        "id": "A5cZNJeL3tFs",
        "outputId": "bf7eb17f-be4c-4708-a20a-8db654fabec0"
      },
      "source": [
        "identified_clusters = kmeans.fit_predict(x)\n",
        "identified_clusters"
      ],
      "execution_count": 43,
      "outputs": [
        {
          "output_type": "execute_result",
          "data": {
            "text/plain": [
              "array([3, 3, 0, 0, 0, 2, 0, 3, 4, 2, 0, 3, 0, 6, 5, 0, 3, 3, 0, 3, 2, 3,\n",
              "       5, 3, 0, 5, 0, 3, 0, 0, 1, 0, 0, 3, 3, 1, 2, 5, 0, 3, 1, 1, 0, 0,\n",
              "       0, 0, 0, 0, 1, 1, 0, 2, 5, 0, 3, 5, 0, 3, 1, 3, 2, 3, 2, 0, 5, 3,\n",
              "       3, 3, 0, 0, 3, 0, 0, 1, 0, 5, 0, 2, 0, 5, 0, 0, 3, 6, 0, 3, 5, 1,\n",
              "       5, 1, 3, 5, 6, 5, 3, 3, 3, 0, 3, 3, 5, 3, 3, 3, 0, 3, 3, 5, 0, 2,\n",
              "       3, 3, 2, 0, 3, 0, 4, 1, 5, 3, 0, 0, 0, 3, 3, 3, 0, 0, 3, 3, 0, 2,\n",
              "       0, 0, 3, 5, 0, 3, 5, 0, 3, 5, 0, 0, 5, 0, 3, 0, 1, 3, 3, 0, 5, 0,\n",
              "       1, 1, 5, 0, 0, 0, 3, 0, 1, 3, 3, 5, 3, 3, 0, 2, 1, 0, 3, 0, 0, 0,\n",
              "       1, 3, 5, 0, 1, 3, 2, 1, 6, 5, 2, 6, 3, 1, 0, 0, 3, 0, 1, 0, 0, 3,\n",
              "       3, 0, 5, 0, 0, 3, 5, 5, 0, 0, 5, 3, 0, 3, 2, 3, 2, 0, 0, 0, 0, 0,\n",
              "       3, 5, 0, 5, 3, 3, 1, 3, 6, 5, 2, 1, 1, 3, 2, 3, 0, 0, 0, 0, 2, 3,\n",
              "       2, 3, 5, 0, 0, 5, 5, 4, 0, 5, 3, 2, 3, 4, 3, 0, 3, 0, 5, 2, 3, 2,\n",
              "       0, 0, 2, 0, 0, 0, 3, 0, 0, 3, 0, 3, 0, 2, 3, 5, 3, 0, 5, 2, 0, 0,\n",
              "       3, 0, 3, 3, 0, 3, 0, 0, 3, 2, 5, 0, 1, 3, 3, 0, 2, 0, 5, 3, 3, 6,\n",
              "       3, 5, 2, 0, 3, 3, 0, 2, 3, 0, 0, 3, 1, 5, 3, 3, 2, 0, 3, 0, 5, 1,\n",
              "       5, 1, 0, 3, 5, 3, 2, 0, 3, 3, 3, 0, 3, 0, 6, 3, 2, 4, 3, 3, 0, 2,\n",
              "       6, 2, 5, 0, 3, 3, 3, 6, 3, 3, 5, 3, 0, 2, 2, 2, 3, 2, 3, 3, 3, 3,\n",
              "       0, 5, 2, 3, 0, 3, 3, 3, 1, 0, 1, 3, 3, 2, 2, 3, 0, 2, 0, 5, 1, 0,\n",
              "       5, 5, 2, 3, 0, 2, 3, 3, 3, 3, 0, 6, 2, 1, 3, 0, 3, 3], dtype=int32)"
            ]
          },
          "metadata": {},
          "execution_count": 43
        }
      ]
    },
    {
      "cell_type": "code",
      "metadata": {
        "colab": {
          "base_uri": "https://localhost:8080/",
          "height": 286
        },
        "id": "UdgRPn6S75ej",
        "outputId": "53dcb782-4581-4e7c-f678-f34dbc48adcb"
      },
      "source": [
        "data_with_clusters = data.copy()\n",
        "data_with_clusters['Clusters'] = identified_clusters \n",
        "a=data_with_clusters[\"X1 transaction date\"]\n",
        "b=data_with_clusters[\"X2 house age\"]\n",
        "plt.scatter(a,b,c=data_with_clusters['Clusters'],cmap='rainbow')"
      ],
      "execution_count": 44,
      "outputs": [
        {
          "output_type": "execute_result",
          "data": {
            "text/plain": [
              "<matplotlib.collections.PathCollection at 0x7f3c518118d0>"
            ]
          },
          "metadata": {},
          "execution_count": 44
        },
        {
          "output_type": "display_data",
          "data": {
            "image/png": "[encoded data removed]",
            "text/plain": [
              "<Figure size 432x288 with 1 Axes>"
            ]
          },
          "metadata": {}
        }
      ]
    },
    {
      "cell_type": "code",
      "metadata": {
        "id": "82ZFrFdO_S3Y"
      },
      "source": [
        ""
      ],
      "execution_count": 44,
      "outputs": []
    }
  ]
}