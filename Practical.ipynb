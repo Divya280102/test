{
  "nbformat": 4,
  "nbformat_minor": 0,
  "metadata": {
    "colab": {
      "name": "Practical.ipynb",
      "provenance": [],
      "authorship_tag": "ABX9TyNyUvL/2pqboqw5/CTObdP/",
      "include_colab_link": true
    },
    "kernelspec": {
      "name": "python3",
      "display_name": "Python 3"
    },
    "language_info": {
      "name": "python"
    }
  },
  "cells": [
    {
      "cell_type": "markdown",
      "metadata": {
        "id": "view-in-github",
        "colab_type": "text"
      },
      "source": [
        "<a href=\"https://colab.research.google.com/github/nastynoice/test/blob/main/Practical.ipynb\" target=\"_parent\"><img src=\"https://colab.research.google.com/assets/colab-badge.svg\" alt=\"Open In Colab\"/></a>"
      ]
    },
    {
      "cell_type": "code",
      "metadata": {
        "colab": {
          "base_uri": "https://localhost:8080/"
        },
        "id": "oF68BwpYz1cS",
        "outputId": "d558d8ca-bb92-4dfa-d05f-43ef9e7079ec"
      },
      "source": [
        "#Q1)\n",
        "print(\"List of months: January, February, March, April, May, June, July, August, September, October, November, December\")\n",
        "month_name = input(\"Input the name of Month: \")\n",
        "\n",
        "if month_name == \"February\":\n",
        "\tprint(\"No. of days: 28/29 days\")\n",
        "elif month_name in (\"April\", \"June\", \"September\", \"November\"):\n",
        "\tprint(\"No. of days: 30 days\")\n",
        "elif month_name in (\"January\", \"March\", \"May\", \"July\", \"August\", \"October\", \"December\"):\n",
        "\tprint(\"No. of days: 31 day\")\n",
        "else:\n",
        "\tprint(\"Wrong month name\") "
      ],
      "execution_count": null,
      "outputs": [
        {
          "output_type": "stream",
          "name": "stdout",
          "text": [
            "List of months: January, February, March, April, May, June, July, August, September, October, November, December\n",
            "Input the name of Month: st\n",
            "Wrong month name\n"
          ]
        }
      ]
    },
    {
      "cell_type": "code",
      "metadata": {
        "colab": {
          "base_uri": "https://localhost:8080/"
        },
        "id": "NS_-RCUa3s7l",
        "outputId": "3c9e889c-8b6b-4830-ad34-a1c77a5bf0a3"
      },
      "source": [
        "user_input = input('Enter word sequence:')\n",
        "\n",
        "string = user_input.split()\n",
        "\n",
        "temp = [i[::-1] for i in string]\n",
        "\n",
        "unique = 0\n",
        "is_palindrome = 0\n",
        "\n",
        "for i in range(len(temp)):\n",
        "    if temp[i] == string[i]:\n",
        "        is_palindrome += 1\n",
        "    else:\n",
        "        unique += 1\n",
        "\n",
        "print('There are', is_palindrome, 'Palindromes, and', unique, 'unique words')"
      ],
      "execution_count": null,
      "outputs": [
        {
          "output_type": "stream",
          "name": "stdout",
          "text": [
            "Enter word sequence:abba 1234 1331\n",
            "There are 2 Palindromes, and 1 unique words\n"
          ]
        }
      ]
    },
    {
      "cell_type": "code",
      "metadata": {
        "colab": {
          "base_uri": "https://localhost:8080/"
        },
        "id": "ClFXZ7gB01aq",
        "outputId": "9c225914-f5c4-4349-f1ff-c8e29705ac4c"
      },
      "source": [
        "#Q2)\n",
        "string=input((\"Enter a string:\"))\n",
        "if(string==string[::-1]):\n",
        "      print(\"The string is a palindrome\")\n",
        "else:\n",
        "      print(\"Not a palindrome\")"
      ],
      "execution_count": null,
      "outputs": [
        {
          "output_type": "stream",
          "name": "stdout",
          "text": [
            "Enter a string:aba\n",
            "The string is a palindrome\n"
          ]
        }
      ]
    },
    {
      "cell_type": "code",
      "metadata": {
        "id": "1b0mDpJe5I_-",
        "colab": {
          "base_uri": "https://localhost:8080/"
        },
        "outputId": "2a2b1f9e-d1e3-4c09-a76a-a54cf131854b"
      },
      "source": [
        "#Q3)\n",
        "def last(n): return n[-1]\n",
        "\n",
        "def sort_list_last(tuples):\n",
        "  return sorted(tuples, key=last)\n",
        "\n",
        "print(sort_list_last([(2, 5), (1, 2), (4, 4), (2, 3), (2, 1)]))"
      ],
      "execution_count": null,
      "outputs": [
        {
          "output_type": "stream",
          "name": "stdout",
          "text": [
            "[(2, 1), (1, 2), (2, 3), (4, 4), (2, 5)]\n"
          ]
        }
      ]
    },
    {
      "cell_type": "code",
      "metadata": {
        "colab": {
          "base_uri": "https://localhost:8080/"
        },
        "id": "y33M-YEC4epB",
        "outputId": "220565c7-b04c-4460-94f7-dc22d0144020"
      },
      "source": [
        "#Q4)\n",
        "from itertools import product\n",
        "\n",
        "d ={'1':['a','b'], '2':['c','d']}\n",
        "\n",
        "for x, y in product(*d.values()):\n",
        "    print(x + y)"
      ],
      "execution_count": null,
      "outputs": [
        {
          "output_type": "stream",
          "name": "stdout",
          "text": [
            "ac\n",
            "ad\n",
            "bc\n",
            "bd\n"
          ]
        }
      ]
    },
    {
      "cell_type": "code",
      "metadata": {
        "colab": {
          "base_uri": "https://localhost:8080/"
        },
        "id": "xetmlIMx4--M",
        "outputId": "2ba298d3-85bf-4ff1-b93f-e00b5b7172f3"
      },
      "source": [
        "#Q5)\n",
        "t = (100, 200, 300)\n",
        "print(format(t))\n",
        "#https://www.w3resource.com/python-exercises/tuple/python-tuple-exercise-20.php"
      ],
      "execution_count": null,
      "outputs": [
        {
          "output_type": "stream",
          "name": "stdout",
          "text": [
            "(100, 200, 300)\n"
          ]
        }
      ]
    },
    {
      "cell_type": "code",
      "metadata": {
        "colab": {
          "base_uri": "https://localhost:8080/"
        },
        "id": "o85KsyC45c0-",
        "outputId": "a368f1b5-9e3b-495b-d66f-077d742b018d"
      },
      "source": [
        "#Q6)\n",
        "class py_solution:\n",
        "   def is_valid_parenthese(self, str1):\n",
        "        stack, pchar = [], {\"(\": \")\", \"{\": \"}\", \"[\": \"]\"}\n",
        "        for parenthese in str1:\n",
        "            if parenthese in pchar:\n",
        "                stack.append(parenthese)\n",
        "            elif len(stack) == 0 or pchar[stack.pop()] != parenthese:\n",
        "                return False\n",
        "        return len(stack) == 0\n",
        "\n",
        "print(py_solution().is_valid_parenthese(\"(){}[]\"))\n",
        "print(py_solution().is_valid_parenthese(\"()[{)}\"))\n",
        "print(py_solution().is_valid_parenthese(\"()\"))\n",
        "#https://www.w3resource.com/python-exercises/class-exercises/python-class-exercise-3.php"
      ],
      "execution_count": null,
      "outputs": [
        {
          "output_type": "stream",
          "name": "stdout",
          "text": [
            "True\n",
            "False\n",
            "True\n"
          ]
        }
      ]
    },
    {
      "cell_type": "code",
      "metadata": {
        "id": "LlGOsT1d6Lof",
        "colab": {
          "base_uri": "https://localhost:8080/"
        },
        "outputId": "0f129ca6-7db6-428c-ae88-4e48c4eaf317"
      },
      "source": [
        "#8) Objective: Write a program to implement PCA.\n",
        "# Principal Component Analysis is a method for reducing\n",
        "# the dimensionality of data. A projection method where\n",
        "# data with m-columns (features) is project into a subspace \n",
        "#with new eigen - vectors as new axis whilst retaining \n",
        "#essence of original data\n",
        "# Algorithm:\n",
        "#       1) Calculate mean values of each columns/feature\n",
        "#      # 2) Center or normalize the values by subtracting mean column value\n",
        "#       3) calculate covariance matrix of the centered matrix(C)\n",
        "#        Correlation is a normalized measure of the amount and \n",
        "#        direction (positive or negative) that two columns change \n",
        "#        together. Covariance is a generalized and unnormalized \n",
        "#        version of correlation across multiple columns. \n",
        "#        A covariance matrix is a calculation of covariance of a \n",
        "#        given matrix with covariance scores for\n",
        "#         every column with every other column, including itself\n",
        "\n",
        "        #  4) perform eigen-decomposition of cov matrix resulting\n",
        "        #  eigen vectors and values.\n",
        "        #  The eigenvectors represent the directions or \n",
        "        #  components for the reduced subspace of B,\n",
        "        #   whereas the eigenvalues\n",
        "        #   represent the magnitudes for the directions\n",
        "\n",
        "from numpy import array\n",
        "from numpy import mean\n",
        "from numpy import cov\n",
        "from numpy.linalg import eig\n",
        "print(\"define a matrix\")\n",
        "A = array([[1, 2], [3, 4], [5, 6]])\n",
        "print(A)\n",
        "print (\"calculate the mean of each column\")\n",
        "M = mean(A.T, axis=1)\n",
        "print(M)\n",
        "print (\"center columns by subtracting column means\")\n",
        "C = A - M\n",
        "print(C)\n",
        "print(\"calculate covariance matrix of centered matrix\")\n",
        "V = cov(C.T)\n",
        "print(V)\n",
        "print(\"eigendecomposition of covariance matrix\")\n",
        "values, vectors = eig(V)\n",
        "print(\"Eigen-Vector:\")\n",
        "print(vectors)\n",
        "print(\"Eigen-Values:\")\n",
        "print(values)\n",
        "print(\"project data\")\n",
        "P = vectors.T.dot(C.T)\n",
        "print(P.T)\n",
        "\n"
      ],
      "execution_count": null,
      "outputs": [
        {
          "output_type": "stream",
          "name": "stdout",
          "text": [
            "define a matrix\n",
            "[[1 2]\n",
            " [3 4]\n",
            " [5 6]]\n",
            "calculate the mean of each column\n",
            "[3. 4.]\n",
            "center columns by subtracting column means\n",
            "[[-2. -2.]\n",
            " [ 0.  0.]\n",
            " [ 2.  2.]]\n",
            "calculate covariance matrix of centered matrix\n",
            "[[4. 4.]\n",
            " [4. 4.]]\n",
            "eigendecomposition of covariance matrix\n",
            "Eigen-Vector:\n",
            "[[ 0.70710678 -0.70710678]\n",
            " [ 0.70710678  0.70710678]]\n",
            "Eigen-Values:\n",
            "[8. 0.]\n",
            "project data\n",
            "[[-2.82842712  0.        ]\n",
            " [ 0.          0.        ]\n",
            " [ 2.82842712  0.        ]]\n"
          ]
        }
      ]
    },
    {
      "cell_type": "code",
      "metadata": {
        "id": "iU6lbl7JBS7t"
      },
      "source": [
        "# only 1st eigen vector is required to analyse data,\n",
        "#we can project our 3*2 matrix onto 3*1"
      ],
      "execution_count": null,
      "outputs": []
    },
    {
      "cell_type": "code",
      "metadata": {
        "id": "ieYYn8msC9g8"
      },
      "source": [
        ""
      ],
      "execution_count": null,
      "outputs": []
    },
    {
      "cell_type": "code",
      "metadata": {
        "id": "RhhLTko1dxMp"
      },
      "source": [
        "from IPython.display import display, Javascript\n",
        "from google.colab.output import eval_js\n",
        "from base64 import b64decode\n",
        "\n",
        "def take_photo(filename='photo.jpg', quality=0.8):\n",
        "  js = Javascript('''\n",
        "    async function takePhoto(quality) {\n",
        "      const div = document.createElement('div');\n",
        "      const capture = document.createElement('button');\n",
        "      capture.textContent = 'Capture';\n",
        "      div.appendChild(capture);\n",
        "\n",
        "      const video = document.createElement('video');\n",
        "      video.style.display = 'block';\n",
        "      const stream = await navigator.mediaDevices.getUserMedia({video: true});\n",
        "\n",
        "      document.body.appendChild(div);\n",
        "      div.appendChild(video);\n",
        "      video.srcObject = stream;\n",
        "      await video.play();\n",
        "\n",
        "      // Resize the output to fit the video element.\n",
        "      google.colab.output.setIframeHeight(document.documentElement.scrollHeight, true);\n",
        "\n",
        "      // Wait for Capture to be clicked.\n",
        "      await new Promise((resolve) => capture.onclick = resolve);\n",
        "\n",
        "      const canvas = document.createElement('canvas');\n",
        "      canvas.width = video.videoWidth;\n",
        "      canvas.height = video.videoHeight;\n",
        "      canvas.getContext('2d').drawImage(video, 0, 0);\n",
        "      stream.getVideoTracks()[0].stop();\n",
        "      div.remove();\n",
        "      return canvas.toDataURL('image/jpeg', quality);\n",
        "    }\n",
        "    ''')\n",
        "  display(js)\n",
        "  data = eval_js('takePhoto({})'.format(quality))\n",
        "  binary = b64decode(data.split(',')[1])\n",
        "  with open(filename, 'wb') as f:\n",
        "    f.write(binary)\n",
        "  return filename"
      ],
      "execution_count": null,
      "outputs": []
    },
    {
      "cell_type": "code",
      "metadata": {
        "id": "z4qkIy_AdxMr"
      },
      "source": [
        "from IPython.display import Image\n",
        "try:\n",
        "  filename = take_photo()\n",
        "  print('Saved to {}'.format(filename))\n",
        "  \n",
        "  # Show the image which was just taken.\n",
        "  display(Image(filename))\n",
        "except Exception as err:\n",
        "  # Errors will be thrown if the user does not have a webcam or if they do not\n",
        "  # grant the page permission to access it.\n",
        "  print(str(err))"
      ],
      "execution_count": null,
      "outputs": []
    }
  ]
}