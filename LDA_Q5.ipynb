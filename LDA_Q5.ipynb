{
  "nbformat": 4,
  "nbformat_minor": 0,
  "metadata": {
    "colab": {
      "name": "LDA Q5.ipynb",
      "provenance": [],
      "authorship_tag": "ABX9TyOgDMchrJb/uqUcXsqQ14GG",
      "include_colab_link": true
    },
    "kernelspec": {
      "name": "python3",
      "display_name": "Python 3"
    },
    "language_info": {
      "name": "python"
    }
  },
  "cells": [
    {
      "cell_type": "markdown",
      "metadata": {
        "id": "view-in-github",
        "colab_type": "text"
      },
      "source": [
        "<a href=\"https://colab.research.google.com/github/nastynoice/test/blob/main/LDA_Q5.ipynb\" target=\"_parent\"><img src=\"https://colab.research.google.com/assets/colab-badge.svg\" alt=\"Open In Colab\"/></a>"
      ]
    },
    {
      "cell_type": "markdown",
      "metadata": {
        "id": "ku84pTXhxk4w"
      },
      "source": [
        "#new\n"
      ]
    },
    {
      "cell_type": "code",
      "metadata": {
        "id": "5H1VGpcOxkD5",
        "colab": {
          "base_uri": "https://localhost:8080/",
          "height": 510
        },
        "outputId": "6d767c06-ddf1-4967-e842-4ea7f54507a3"
      },
      "source": [
        "import numpy as np\n",
        "import matplotlib.pyplot as plt\n",
        "import pandas as pd\n",
        "# load dataset into Pandas DataFrame\n",
        "df = pd.read_csv(\"/content/Real estate.csv\")\n",
        "\n",
        "df = df.drop(\"No\",1)\n",
        "print(df.columns)\n",
        "df.columns = [\"X1\", \"X2\", \"X3\", \"X4\", \"X5\", \"X6\",\"Y\"]\n",
        "df"
      ],
      "execution_count": null,
      "outputs": [
        {
          "output_type": "stream",
          "name": "stdout",
          "text": [
            "Index(['X1 transaction date', 'X2 house age',\n",
            "       'X3 distance to the nearest MRT station',\n",
            "       'X4 number of convenience stores', 'X5 latitude', 'X6 longitude',\n",
            "       'Y house price of unit area'],\n",
            "      dtype='object')\n"
          ]
        },
        {
          "output_type": "execute_result",
          "data": {
            "text/html": [
              "<div>\n",
              "<style scoped>\n",
              "    .dataframe tbody tr th:only-of-type {\n",
              "        vertical-align: middle;\n",
              "    }\n",
              "\n",
              "    .dataframe tbody tr th {\n",
              "        vertical-align: top;\n",
              "    }\n",
              "\n",
              "    .dataframe thead th {\n",
              "        text-align: right;\n",
              "    }\n",
              "</style>\n",
              "<table border=\"1\" class=\"dataframe\">\n",
              "  <thead>\n",
              "    <tr style=\"text-align: right;\">\n",
              "      <th></th>\n",
              "      <th>X1</th>\n",
              "      <th>X2</th>\n",
              "      <th>X3</th>\n",
              "      <th>X4</th>\n",
              "      <th>X5</th>\n",
              "      <th>X6</th>\n",
              "      <th>Y</th>\n",
              "    </tr>\n",
              "  </thead>\n",
              "  <tbody>\n",
              "    <tr>\n",
              "      <th>0</th>\n",
              "      <td>2012.917</td>\n",
              "      <td>32.0</td>\n",
              "      <td>84.87882</td>\n",
              "      <td>10</td>\n",
              "      <td>24.98298</td>\n",
              "      <td>121.54024</td>\n",
              "      <td>37.9</td>\n",
              "    </tr>\n",
              "    <tr>\n",
              "      <th>1</th>\n",
              "      <td>2012.917</td>\n",
              "      <td>19.5</td>\n",
              "      <td>306.59470</td>\n",
              "      <td>9</td>\n",
              "      <td>24.98034</td>\n",
              "      <td>121.53951</td>\n",
              "      <td>42.2</td>\n",
              "    </tr>\n",
              "    <tr>\n",
              "      <th>2</th>\n",
              "      <td>2013.583</td>\n",
              "      <td>13.3</td>\n",
              "      <td>561.98450</td>\n",
              "      <td>5</td>\n",
              "      <td>24.98746</td>\n",
              "      <td>121.54391</td>\n",
              "      <td>47.3</td>\n",
              "    </tr>\n",
              "    <tr>\n",
              "      <th>3</th>\n",
              "      <td>2013.500</td>\n",
              "      <td>13.3</td>\n",
              "      <td>561.98450</td>\n",
              "      <td>5</td>\n",
              "      <td>24.98746</td>\n",
              "      <td>121.54391</td>\n",
              "      <td>54.8</td>\n",
              "    </tr>\n",
              "    <tr>\n",
              "      <th>4</th>\n",
              "      <td>2012.833</td>\n",
              "      <td>5.0</td>\n",
              "      <td>390.56840</td>\n",
              "      <td>5</td>\n",
              "      <td>24.97937</td>\n",
              "      <td>121.54245</td>\n",
              "      <td>43.1</td>\n",
              "    </tr>\n",
              "    <tr>\n",
              "      <th>...</th>\n",
              "      <td>...</td>\n",
              "      <td>...</td>\n",
              "      <td>...</td>\n",
              "      <td>...</td>\n",
              "      <td>...</td>\n",
              "      <td>...</td>\n",
              "      <td>...</td>\n",
              "    </tr>\n",
              "    <tr>\n",
              "      <th>409</th>\n",
              "      <td>2013.000</td>\n",
              "      <td>13.7</td>\n",
              "      <td>4082.01500</td>\n",
              "      <td>0</td>\n",
              "      <td>24.94155</td>\n",
              "      <td>121.50381</td>\n",
              "      <td>15.4</td>\n",
              "    </tr>\n",
              "    <tr>\n",
              "      <th>410</th>\n",
              "      <td>2012.667</td>\n",
              "      <td>5.6</td>\n",
              "      <td>90.45606</td>\n",
              "      <td>9</td>\n",
              "      <td>24.97433</td>\n",
              "      <td>121.54310</td>\n",
              "      <td>50.0</td>\n",
              "    </tr>\n",
              "    <tr>\n",
              "      <th>411</th>\n",
              "      <td>2013.250</td>\n",
              "      <td>18.8</td>\n",
              "      <td>390.96960</td>\n",
              "      <td>7</td>\n",
              "      <td>24.97923</td>\n",
              "      <td>121.53986</td>\n",
              "      <td>40.6</td>\n",
              "    </tr>\n",
              "    <tr>\n",
              "      <th>412</th>\n",
              "      <td>2013.000</td>\n",
              "      <td>8.1</td>\n",
              "      <td>104.81010</td>\n",
              "      <td>5</td>\n",
              "      <td>24.96674</td>\n",
              "      <td>121.54067</td>\n",
              "      <td>52.5</td>\n",
              "    </tr>\n",
              "    <tr>\n",
              "      <th>413</th>\n",
              "      <td>2013.500</td>\n",
              "      <td>6.5</td>\n",
              "      <td>90.45606</td>\n",
              "      <td>9</td>\n",
              "      <td>24.97433</td>\n",
              "      <td>121.54310</td>\n",
              "      <td>63.9</td>\n",
              "    </tr>\n",
              "  </tbody>\n",
              "</table>\n",
              "<p>414 rows × 7 columns</p>\n",
              "</div>"
            ],
            "text/plain": [
              "           X1    X2          X3  X4        X5         X6     Y\n",
              "0    2012.917  32.0    84.87882  10  24.98298  121.54024  37.9\n",
              "1    2012.917  19.5   306.59470   9  24.98034  121.53951  42.2\n",
              "2    2013.583  13.3   561.98450   5  24.98746  121.54391  47.3\n",
              "3    2013.500  13.3   561.98450   5  24.98746  121.54391  54.8\n",
              "4    2012.833   5.0   390.56840   5  24.97937  121.54245  43.1\n",
              "..        ...   ...         ...  ..       ...        ...   ...\n",
              "409  2013.000  13.7  4082.01500   0  24.94155  121.50381  15.4\n",
              "410  2012.667   5.6    90.45606   9  24.97433  121.54310  50.0\n",
              "411  2013.250  18.8   390.96960   7  24.97923  121.53986  40.6\n",
              "412  2013.000   8.1   104.81010   5  24.96674  121.54067  52.5\n",
              "413  2013.500   6.5    90.45606   9  24.97433  121.54310  63.9\n",
              "\n",
              "[414 rows x 7 columns]"
            ]
          },
          "metadata": {},
          "execution_count": 1
        }
      ]
    },
    {
      "cell_type": "code",
      "metadata": {
        "colab": {
          "base_uri": "https://localhost:8080/"
        },
        "id": "_X9Muu-HHH-H",
        "outputId": "191f22fc-7c79-46ea-8d6e-1d6a4e351346"
      },
      "source": [
        "mode_x1 = df[\"X1\"].mode\n",
        "mode_x1\n",
        "# we see that the mode of column 1 is 2012.9 which is almost\n",
        "# 2013. so, we can use 2013 as our discriminant function"
      ],
      "execution_count": null,
      "outputs": [
        {
          "output_type": "execute_result",
          "data": {
            "text/plain": [
              "<bound method Series.mode of 0      2012.917\n",
              "1      2012.917\n",
              "2      2013.583\n",
              "3      2013.500\n",
              "4      2012.833\n",
              "         ...   \n",
              "409    2013.000\n",
              "410    2012.667\n",
              "411    2013.250\n",
              "412    2013.000\n",
              "413    2013.500\n",
              "Name: X1, Length: 414, dtype: float64>"
            ]
          },
          "metadata": {},
          "execution_count": 2
        }
      ]
    },
    {
      "cell_type": "code",
      "metadata": {
        "id": "M3o9QfJtHVkU"
      },
      "source": [
        "class1 = df.loc[df[\"X1\"] < 2013,[\"X2\", \"X3\", \"X4\", \"X5\", \"X6\"]]\n",
        "class2 = df.loc[df[\"X1\"] >= 2013,[\"X2\", \"X3\", \"X4\", \"X5\", \"X6\"]]\n",
        "# class1\n",
        "# # class2"
      ],
      "execution_count": null,
      "outputs": []
    },
    {
      "cell_type": "code",
      "metadata": {
        "colab": {
          "base_uri": "https://localhost:8080/"
        },
        "id": "D9OgLL7NIXs1",
        "outputId": "3edf8743-55a8-426a-db24-ff88508bf9e9"
      },
      "source": [
        "# the next step is to find the mean of each feature because we\n",
        "# have separated our data in 2 components\n",
        "# finding mean for each feature in class 1\n",
        "mean_X2 = class1[\"X2\"].mean \n",
        "mean_X3 = class1[\"X3\"].mean\n",
        "mean_X4 = class1[\"X4\"].mean\n",
        "mean_X5 = class1[\"X5\"].mean\n",
        "mean_X6 = class1[\"X6\"].mean\n",
        "mean_all1 = np.mean(class1)\n",
        "mean_all1 = np.array(mean_all1)\n",
        "mean_vec1 = class1.mean\n",
        "mean_vec1\n",
        "# mean_all1 = [mean_X2,mean_X3,mean_X4,mean_X5,mean_X6]\n",
        "mean_all1"
      ],
      "execution_count": null,
      "outputs": [
        {
          "output_type": "execute_result",
          "data": {
            "text/plain": [
              "array([  16.86666667, 1052.40416913,    4.11904762,   24.96887794,\n",
              "        121.53305571])"
            ]
          },
          "metadata": {},
          "execution_count": 4
        }
      ]
    },
    {
      "cell_type": "code",
      "metadata": {
        "colab": {
          "base_uri": "https://localhost:8080/"
        },
        "id": "hMTPALZ0Jf9j",
        "outputId": "baef1092-430b-4e16-b944-acf73d219eff"
      },
      "source": [
        "# finding mean for each feature in class 2\n",
        "mean_X2n = class2[\"X2\"].mean \n",
        "mean_X3n = class2[\"X3\"].mean\n",
        "mean_X4n = class2[\"X4\"].mean\n",
        "mean_X5n = class2[\"X5\"].mean\n",
        "mean_X6n = class2[\"X6\"].mean\n",
        "mean_all2 = np.mean(class2)\n",
        "mean_all2 = np.array(mean_all2)\n",
        "# mean_all2 = [mean_X2n,mean_X3n,mean_X4n,mean_X5n,mean_X6n]\n",
        "# mean_all2T = mean_all2.T\n",
        "mean_all2"
      ],
      "execution_count": null,
      "outputs": [
        {
          "output_type": "execute_result",
          "data": {
            "text/plain": [
              "array([  18.08263889, 1097.65885382,    4.08333333,   24.96909663,\n",
              "        121.53349469])"
            ]
          },
          "metadata": {},
          "execution_count": 5
        }
      ]
    },
    {
      "cell_type": "code",
      "metadata": {
        "id": "_kSgt4nGtfab"
      },
      "source": [
        "mean_lol = mean_all1 - mean_all2"
      ],
      "execution_count": null,
      "outputs": []
    },
    {
      "cell_type": "code",
      "metadata": {
        "id": "BzZ6UZsaKDAJ"
      },
      "source": [
        "cov1 = class1.T@class1\n",
        "cov2 = class2.T@class2\n",
        "\n",
        "N = len(df)\n",
        "N1 = len(class1)\n",
        "N2 = len(class2)\n",
        "\n",
        "cov = (N1*cov1 + N2*cov2)/N\n",
        "inv_cov = np.linalg.inv(cov)"
      ],
      "execution_count": null,
      "outputs": []
    },
    {
      "cell_type": "code",
      "metadata": {
        "id": "4T5xgCoa8E8Q"
      },
      "source": [
        "# Calculating Prior Probability of Class1 and Class2\n",
        "class1_Prior = N1/N\n",
        "class2_Prior = N2/N\n",
        "\n",
        "prior = np.log(class1_Prior/class2_Prior)\n",
        "# mean_sub = mean_lol - mean_lmao\n",
        "# mean_sub"
      ],
      "execution_count": null,
      "outputs": []
    },
    {
      "cell_type": "code",
      "metadata": {
        "id": "eJZ5vrBKSACO"
      },
      "source": [
        "# x_t = df.drop(\"X1\",1)\n",
        "# x_t = x_t.drop(\"Y\", 1)\n",
        "# x_t = x_t.T\n",
        "# x_t"
      ],
      "execution_count": null,
      "outputs": []
    },
    {
      "cell_type": "code",
      "metadata": {
        "id": "OuVGuMVPeUoq"
      },
      "source": [
        "#a0 = prior - 0.5*mean_sub*inv_cov*mean_sub\n",
        "t = inv_cov*mean_lol"
      ],
      "execution_count": null,
      "outputs": []
    },
    {
      "cell_type": "code",
      "metadata": {
        "id": "zE-Lz66uUtkx"
      },
      "source": [
        "# x_t*inv_cov\n",
        "# zipe = zip(x_t,inv_cov)\n",
        "# zip(inv_cov*x_t)\n",
        "# avi = np.dot(np.array(inv_cov),np.array(x_t))\n",
        "# avi"
      ],
      "execution_count": null,
      "outputs": []
    },
    {
      "cell_type": "code",
      "metadata": {
        "colab": {
          "base_uri": "https://localhost:8080/"
        },
        "id": "DiIzl8o1c-JP",
        "outputId": "82205c19-7f41-40a6-b848-aa79943d184a"
      },
      "source": [
        "\n",
        "final_a0 = prior - 0.5*mean_lol*t\n",
        "final_a0"
      ],
      "execution_count": null,
      "outputs": [
        {
          "output_type": "execute_result",
          "data": {
            "text/plain": [
              "array([[-0.82670294, -0.82664802, -0.82667857, -0.82667857, -0.82667857],\n",
              "       [-0.82667855, -0.82668322, -0.82667857, -0.82667857, -0.82667857],\n",
              "       [-0.82667015, -0.82775054, -0.82667908, -0.82667857, -0.82667857],\n",
              "       [-0.82490538, -0.94140957, -0.82666392, -0.82667949, -0.82667782],\n",
              "       [-0.82703977, -0.8030338 , -0.82668156, -0.82667839, -0.82667873]])"
            ]
          },
          "metadata": {},
          "execution_count": 12
        }
      ]
    },
    {
      "cell_type": "code",
      "metadata": {
        "colab": {
          "base_uri": "https://localhost:8080/"
        },
        "id": "IT5rwd0awOIl",
        "outputId": "9722dab4-945b-4768-8847-4142eaf9a4c9"
      },
      "source": [
        "a2 = (t[0].T)\n",
        "a3 = (t[1].T)\n",
        "a4 = (t[2].T)\n",
        "a5 = (t[3].T)\n",
        "a6 = (t[4].T)\n",
        "print(\"a2:\",a2)\n",
        "print(\"a3:\",a3)\n",
        "print(\"a4:\",a4)\n",
        "print(\"a5:\",a5)\n",
        "print(\"a6:\",a6)"
      ],
      "execution_count": null,
      "outputs": [
        {
          "output_type": "stream",
          "name": "stdout",
          "text": [
            "a2: [-4.00852354e-05  1.35035974e-06 -4.06865971e-07  5.24539207e-07\n",
            " -2.14468997e-07]\n",
            "a3: [ 3.62835349e-08 -2.05443976e-07  3.73873124e-08 -2.45032327e-08\n",
            "  1.01362220e-08]\n",
            "a4: [ 1.38526561e-05 -4.73746289e-05  2.84873601e-05  5.02630397e-06\n",
            " -2.05761381e-06]\n",
            "a5: [ 0.0029165  -0.00507046 -0.00082083 -0.00836665  0.00345024]\n",
            "a6: [-0.00059409  0.00104496  0.0001674   0.0017189  -0.00070884]\n"
          ]
        }
      ]
    },
    {
      "cell_type": "code",
      "metadata": {
        "id": "f7mckX1RyBxf"
      },
      "source": [
        "# decision boundry = a0 + a2*X2 + a3*X3 + a4*X4 + a5*X5 + a6*X6"
      ],
      "execution_count": null,
      "outputs": []
    },
    {
      "cell_type": "code",
      "source": [
        ""
      ],
      "metadata": {
        "id": "A50EeCOl9Qoa"
      },
      "execution_count": null,
      "outputs": []
    },
    {
      "cell_type": "markdown",
      "source": [
        "#lmao\n"
      ],
      "metadata": {
        "id": "BjIYy0ht9Tim"
      }
    },
    {
      "cell_type": "code",
      "source": [
        "import numpy as np\n",
        "import matplotlib.pyplot as plt\n",
        "from sklearn.model_selection import train_test_split\n",
        "from sklearn.datasets import load_iris\n",
        "\n",
        "class LDA:\n",
        "    def __init__(self, n_components=None):\n",
        "        self.n_components = n_components\n",
        "        self.eig_vectors = None\n",
        "    \n",
        "    def transform(self,X,y):\n",
        "        height, width = X.shape\n",
        "        unique_classes = np.unique(y)\n",
        "        num_classes = len(unique_classes)\n",
        "\n",
        "        scatter_t = np.cov(X.T)*(height - 1)\n",
        "        scatter_w = 0\n",
        "        for i in range(num_classes):\n",
        "            class_items = np.flatnonzero(y == unique_classes[i])\n",
        "            scatter_w = scatter_w + np.cov(X[class_items].T) * (len(class_items)-1)\n",
        "        \n",
        "        scatter_b = scatter_t - scatter_w\n",
        "        _, eig_vectors = np.linalg.eigh(np.linalg.pinv(scatter_w).dot(scatter_b))\n",
        "        print(eig_vectors.shape)\n",
        "        pc = X.dot(eig_vectors[:,::-1][:,:self.n_components])\n",
        "        print(pc.shape)\n",
        "\n",
        "        if self.n_components == 2:\n",
        "            if y is None:\n",
        "                plt.scatter(pc[:,0],pc[:,1])\n",
        "            else:\n",
        "                colors = ['r','g','b']\n",
        "                labels = np.unique(y)\n",
        "                for color, label in zip(colors, labels):\n",
        "                    class_data = pc[np.flatnonzero(y==label)]\n",
        "                    plt.scatter(class_data[:,0],class_data[:,1],c=color)\n",
        "            plt.show()\n",
        "        return pc\n",
        "\n",
        "LDA_obj = LDA(n_components=2)\n",
        "data = load_iris()\n",
        "X, y = data.data, data.target\n",
        "X_train, X_test, Y_train, Y_test = train_test_split(X, y, test_size=0.2)\n",
        "\n",
        "LDA_object = LDA(n_components=2)\n",
        "X_train_modified = LDA_object.transform(X_train, Y_train)\n",
        "\n",
        "print(\"Original Data Size:\",X_train.shape, \"\\nModified Data Size:\", X_train_modified.shape)"
      ],
      "metadata": {
        "colab": {
          "base_uri": "https://localhost:8080/",
          "height": 334
        },
        "id": "F62D6K7Y9SkH",
        "outputId": "d6f2f7ef-a5fa-43e8-cd8f-2f8fce3c9783"
      },
      "execution_count": 1,
      "outputs": [
        {
          "output_type": "stream",
          "name": "stdout",
          "text": [
            "(4, 4)\n",
            "(120, 2)\n"
          ]
        },
        {
          "output_type": "display_data",
          "data": {
            "image/png": "[encoded data removed]",
            "text/plain": [
              "<Figure size 432x288 with 1 Axes>"
            ]
          },
          "metadata": {
            "needs_background": "light"
          }
        },
        {
          "output_type": "stream",
          "name": "stdout",
          "text": [
            "Original Data Size: (120, 4) \n",
            "Modified Data Size: (120, 2)\n"
          ]
        }
      ]
    },
    {
      "cell_type": "code",
      "source": [
        "# LDA as a classifier\n",
        "# importing important libraries\n",
        "\n",
        "import pandas as pd \n",
        "import numpy as np\n",
        "import matplotlib.pyplot as plt\n",
        "from math import log\n",
        "\n",
        "names = ['sepal-length', 'sepal-width', 'petal-length', 'petal-width', 'Class']\n",
        "\n",
        "# Reading in the data\n",
        "data = pd.read_csv('lda_classifier.txt', names = names) \n",
        "print('The data set is -\\n\\n',data.head())\n",
        "\n",
        "# convert the class labels into numbers\n",
        "labels = {'Iris-setosa': 1, 'Iris-virginica' :2 } \n",
        "data.Class = [labels[item] for item in data.Class] \n",
        "print('\\nConverted data set is -\\n\\n',data.tail())\n",
        "\n",
        "# setting the matrices\n",
        "newdata =data.values\n",
        "x = newdata[:,0:2]\n",
        "y = newdata[:,4]\n",
        "\n",
        "# Classifying data according to class\n",
        "loc1 = np.where(y == 1)\n",
        "loc2 = np.where(y == 2)\n",
        "x1 = x[loc1]\n",
        "x2 = x[loc2]\n",
        "print(\"\\nData of class 1 is - \\n\",x1)\n",
        "print(\"\\nData of class 2 is - \\n\",x2)\n",
        "\n",
        "# Scatter plot\n",
        "plt.scatter(x1,x2, color='green')\n",
        "plt.xlabel('Sepal length')\n",
        "plt.ylabel('Sepal width')\n",
        "plt.title('Visualizing the data')   \n",
        "plt.show()\n",
        "\n",
        "# Calculating mean vector\n",
        "mean_1 = np.mean(x1,axis = 0).reshape(2,1)\n",
        "print(\"\\nMean vector for class 1 - \\n\",mean_1)\n",
        "mean_2 = np.mean(x2, axis = 0).reshape(2,1)\n",
        "print(\"\\nMean vector for class 2 - \\n\",mean_2)\n",
        "\n",
        "# Calculating prior probabilities\n",
        "pie_1 = x1.shape[0]/y.shape[0]\n",
        "print(\"\\nPrior probability for class 1 : \",pie_1)\n",
        "pie_2 = x2.shape[0]/y.shape[0]\n",
        "print(\"\\nPrior probability for class 2 : \",pie_2)\n",
        "\n",
        "# Calculating covariance matrix\n",
        "cov1 = np.cov(x1[:,0],x1[:,1])\n",
        "print(\"\\nCovariance matrix of class 1 -\\n\",cov1)\n",
        "\n",
        "cov2 = np.cov(x2[:,0],x2[:,1])\n",
        "print(\"\\nCovariance matrix of class 2 -\\n\",cov2)\n",
        "\n",
        "n = y.shape[0]\n",
        "n1 = x1.shape[0]\n",
        "n2 = x2.shape[0]\n",
        "cov = 1/n * ((n1*cov1)+(n2*cov2))\n",
        "print(\"\\nCovariance matrix of the data set -\\n\",cov)\n",
        "\n",
        "# Defining the linear discriminant function\n",
        "a0 = log(pie_1/pie_2) - (np.transpose(mean_1 - mean_2) @ np.linalg.inv(cov) @ (mean_1-mean_2))/2\n",
        "print(\"a0 is : \",a0)\n",
        "\n",
        "mu1_mu2 = mean_1 - mean_2\n",
        "mu1_mu2_t = np.transpose(mu1_mu2)\n",
        "cov_inv = np.linalg.inv(cov)\n",
        "\n",
        "rem = cov_inv @ mu1_mu2\n",
        "a1 = rem[0]\n",
        "a2 = rem[1]\n",
        "print(\"\\na1 is : \",a1)\n",
        "print(\"\\na2 is : \",a2)\n",
        "\n",
        "# Decision boundary\n",
        "print(\"\\nThe decision boundary is : {:.3f} + {:.3f} * x1 + {:.3f} * x2 = 0\".format(a0[0][0],a1[0],\n",
        "                                                                                   a2[0]))\n"
      ],
      "metadata": {
        "colab": {
          "base_uri": "https://localhost:8080/",
          "height": 1000
        },
        "id": "ll2zVYe89WRQ",
        "outputId": "bb5707ed-c192-454b-895e-2f898efd8998"
      },
      "execution_count": 5,
      "outputs": [
        {
          "output_type": "stream",
          "name": "stdout",
          "text": [
            "The data set is -\n",
            "\n",
            "    sepal-length  sepal-width  petal-length  petal-width        Class\n",
            "0           5.1          3.5           1.4          0.2  Iris-setosa\n",
            "1           4.9          3.0           1.4          0.2  Iris-setosa\n",
            "2           4.7          3.2           1.3          0.2  Iris-setosa\n",
            "3           4.6          3.1           1.5          0.2  Iris-setosa\n",
            "4           5.0          3.6           1.4          0.2  Iris-setosa\n",
            "\n",
            "Converted data set is -\n",
            "\n",
            "     sepal-length  sepal-width  petal-length  petal-width  Class\n",
            "95           6.7          3.0           5.2          2.3      2\n",
            "96           6.3          2.5           5.0          1.9      2\n",
            "97           6.5          3.0           5.2          2.0      2\n",
            "98           6.2          3.4           5.4          2.3      2\n",
            "99           5.9          3.0           5.1          1.8      2\n",
            "\n",
            "Data of class 1 is - \n",
            " [[5.1 3.5]\n",
            " [4.9 3. ]\n",
            " [4.7 3.2]\n",
            " [4.6 3.1]\n",
            " [5.  3.6]\n",
            " [5.4 3.9]\n",
            " [4.6 3.4]\n",
            " [5.  3.4]\n",
            " [4.4 2.9]\n",
            " [4.9 3.1]\n",
            " [5.4 3.7]\n",
            " [4.8 3.4]\n",
            " [4.8 3. ]\n",
            " [4.3 3. ]\n",
            " [5.8 4. ]\n",
            " [5.7 4.4]\n",
            " [5.4 3.9]\n",
            " [5.1 3.5]\n",
            " [5.7 3.8]\n",
            " [5.1 3.8]\n",
            " [5.4 3.4]\n",
            " [5.1 3.7]\n",
            " [4.6 3.6]\n",
            " [5.1 3.3]\n",
            " [4.8 3.4]\n",
            " [5.  3. ]\n",
            " [5.  3.4]\n",
            " [5.2 3.5]\n",
            " [5.2 3.4]\n",
            " [4.7 3.2]\n",
            " [4.8 3.1]\n",
            " [5.4 3.4]\n",
            " [5.2 4.1]\n",
            " [5.5 4.2]\n",
            " [4.9 3.1]\n",
            " [5.  3.2]\n",
            " [5.5 3.5]\n",
            " [4.9 3.1]\n",
            " [4.4 3. ]\n",
            " [5.1 3.4]\n",
            " [5.  3.5]\n",
            " [4.5 2.3]\n",
            " [4.4 3.2]\n",
            " [5.  3.5]\n",
            " [5.1 3.8]\n",
            " [4.8 3. ]\n",
            " [5.1 3.8]\n",
            " [4.6 3.2]\n",
            " [5.3 3.7]\n",
            " [5.  3.3]]\n",
            "\n",
            "Data of class 2 is - \n",
            " [[6.3 3.3]\n",
            " [5.8 2.7]\n",
            " [7.1 3. ]\n",
            " [6.3 2.9]\n",
            " [6.5 3. ]\n",
            " [7.6 3. ]\n",
            " [4.9 2.5]\n",
            " [7.3 2.9]\n",
            " [6.7 2.5]\n",
            " [7.2 3.6]\n",
            " [6.5 3.2]\n",
            " [6.4 2.7]\n",
            " [6.8 3. ]\n",
            " [5.7 2.5]\n",
            " [5.8 2.8]\n",
            " [6.4 3.2]\n",
            " [6.5 3. ]\n",
            " [7.7 3.8]\n",
            " [7.7 2.6]\n",
            " [6.  2.2]\n",
            " [6.9 3.2]\n",
            " [5.6 2.8]\n",
            " [7.7 2.8]\n",
            " [6.3 2.7]\n",
            " [6.7 3.3]\n",
            " [7.2 3.2]\n",
            " [6.2 2.8]\n",
            " [6.1 3. ]\n",
            " [6.4 2.8]\n",
            " [7.2 3. ]\n",
            " [7.4 2.8]\n",
            " [7.9 3.8]\n",
            " [6.4 2.8]\n",
            " [6.3 2.8]\n",
            " [6.1 2.6]\n",
            " [7.7 3. ]\n",
            " [6.3 3.4]\n",
            " [6.4 3.1]\n",
            " [6.  3. ]\n",
            " [6.9 3.1]\n",
            " [6.7 3.1]\n",
            " [6.9 3.1]\n",
            " [5.8 2.7]\n",
            " [6.8 3.2]\n",
            " [6.7 3.3]\n",
            " [6.7 3. ]\n",
            " [6.3 2.5]\n",
            " [6.5 3. ]\n",
            " [6.2 3.4]\n",
            " [5.9 3. ]]\n"
          ]
        },
        {
          "output_type": "display_data",
          "data": {
            "image/png": "[encoded data removed]",
            "text/plain": [
              "<Figure size 432x288 with 1 Axes>"
            ]
          },
          "metadata": {
            "needs_background": "light"
          }
        },
        {
          "output_type": "stream",
          "name": "stdout",
          "text": [
            "\n",
            "Mean vector for class 1 - \n",
            " [[5.006]\n",
            " [3.418]]\n",
            "\n",
            "Mean vector for class 2 - \n",
            " [[6.588]\n",
            " [2.974]]\n",
            "\n",
            "Prior probability for class 1 :  0.5\n",
            "\n",
            "Prior probability for class 2 :  0.5\n",
            "\n",
            "Covariance matrix of class 1 -\n",
            " [[0.12424898 0.10029796]\n",
            " [0.10029796 0.14517959]]\n",
            "\n",
            "Covariance matrix of class 2 -\n",
            " [[0.40434286 0.09376327]\n",
            " [0.09376327 0.10400408]]\n",
            "\n",
            "Covariance matrix of the data set -\n",
            " [[0.26429592 0.09703061]\n",
            " [0.09703061 0.12459184]]\n",
            "a0 is :  [[-10.63680511]]\n",
            "\n",
            "a1 is :  [-10.21451468]\n",
            "\n",
            "a2 is :  [11.51857658]\n",
            "\n",
            "The decision boundary is : -10.637 + -10.215 * x1 + 11.519 * x2 = 0\n"
          ]
        }
      ]
    },
    {
      "cell_type": "code",
      "source": [
        ""
      ],
      "metadata": {
        "id": "G-QLsjkgB26I"
      },
      "execution_count": null,
      "outputs": []
    }
  ]
}